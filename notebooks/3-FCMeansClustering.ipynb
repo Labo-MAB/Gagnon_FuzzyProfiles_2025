{
 "cells": [
  {
   "cell_type": "markdown",
   "metadata": {},
   "source": [
    "#### **Running the fuzzy clustering algorithm to create cognitive and behavioral profiles.**\n",
    "\n",
    "Following cells will be dedicated to run a CLI based tool performing fuzzy\n",
    "clustering on the raw behavioral and cognitive variables. This will generate\n",
    "the membership value needed for the graph network computation. \n",
    "\n",
    "Initial clustering will be performed only the ABCD study. Then, the clusters' centroids\n",
    "will be used to project the GESTE and BANDA data onto the ABCD profiles.\n",
    "\n",
    "**Please note, the clustering process can take roughly 1h (depending on the number of cores used). It can be run directly in the notebook, but it will most likely be much faster to run it in a dedicated terminal window. To do so, simply copy and paste the command line, and change the relevant paths to point to your data. You can also select the desired number of cores to use during the clustering process.**"
   ]
  },
  {
   "cell_type": "code",
   "execution_count": 1,
   "metadata": {},
   "outputs": [],
   "source": [
    "# Imports\n",
    "import os\n",
    "\n",
    "import pandas as pd\n",
    "\n",
    "from neurostatx.io.utils import load_df_in_any_format"
   ]
  },
  {
   "cell_type": "code",
   "execution_count": 2,
   "metadata": {},
   "outputs": [],
   "source": [
    "# Setting up relevant paths to previous steps.\n",
    "repository_path = \"/Users/anthonygagnon/code/Article-s-Code/\" # CHANGE THIS\n",
    "abcd_base_path = \"/Volumes/T7/CCPM/ABCD/Release_5.1/abcd-data-release-5.1/\" # CHANGE THIS\n",
    "geste_base_dir = \"/Volumes/T7/CCPM/GESTE/\" # CHANGE THIS\n",
    "banda_dir = '/Volumes/T7/CCPM/BANDA/BANDARelease1.1/' # CHANGE THIS\n",
    "output_folder = \"/Volumes/T7/CCPM/RESULTS_JUNE_24/\" # CHANGE THIS\n",
    "data_dir = f\"{output_folder}/preprocessing/\"\n",
    "output_dir = f\"{output_folder}/fuzzyclustering/\"\n",
    "\n",
    "# Create output directory if it does not exist.\n",
    "if not os.path.exists(output_dir):\n",
    "    os.makedirs(output_dir)"
   ]
  },
  {
   "cell_type": "code",
   "execution_count": 49,
   "metadata": {
    "vscode": {
     "languageId": "shellscript"
    }
   },
   "outputs": [
    {
     "name": "stdout",
     "output_type": "stream",
     "text": [
      "\u001b[32m2024-06-25 15:40:15\u001b[0m \u001b[35mAnthonys-MBP.med.usherbrooke.ca\u001b[0m \u001b[34mroot[90106]\u001b[0m \u001b[1;30mINFO\u001b[0m Loading dataset(s)...\n",
      "\u001b[32m2024-06-25 15:40:17\u001b[0m \u001b[35mAnthonys-MBP.med.usherbrooke.ca\u001b[0m \u001b[34mroot[90106]\u001b[0m \u001b[1;30mINFO\u001b[0m Applying PCA dimensionality reduction.\n",
      "\u001b[32m2024-06-25 15:40:17\u001b[0m \u001b[35mAnthonys-MBP.med.usherbrooke.ca\u001b[0m \u001b[34mroot[90106]\u001b[0m \u001b[1;30mINFO\u001b[0m Bartlett's test of sphericity returned a p-value of 0.0 and Keiser-Meyer-Olkin (KMO) test returned a value of 0.6872199957929848.\n",
      "\u001b[32m2024-06-25 15:40:21\u001b[0m \u001b[35mAnthonys-MBP.med.usherbrooke.ca\u001b[0m \u001b[34mroot[90106]\u001b[0m \u001b[1;30mINFO\u001b[0m Generating dendrogram.\n",
      "\u001b[32m2024-06-25 15:40:26\u001b[0m \u001b[35mAnthonys-MBP.med.usherbrooke.ca\u001b[0m \u001b[34mroot[90106]\u001b[0m \u001b[1;30mINFO\u001b[0m Computing FCM from k=2 to k=20\n",
      "[Parallel(n_jobs=6)]: Using backend LokyBackend with 6 concurrent workers.\n",
      "[Parallel(n_jobs=6)]: Done  20 out of  20 | elapsed: 37.0min finished\n",
      "\u001b[32m2024-06-25 16:17:24\u001b[0m \u001b[35mAnthonys-MBP.med.usherbrooke.ca\u001b[0m \u001b[34mroot[90106]\u001b[0m \u001b[1;30mINFO\u001b[0m Plotting validation indicators and outputting final matrices.\n"
     ]
    }
   ],
   "source": [
    "# Running Clustering on raw variables using a CLI tool, therefore \n",
    "# using the ! flag beforehand. Running up to 20 clusters.\n",
    "# ** This is a long running process. Go get a coffee ! **\n",
    "\n",
    "!FuzzyClustering --in-dataset '{data_dir}/abcd_data_preprocessed.xlsx'\\\n",
    "    --out-folder \"{output_dir}/ABCDFuzzyCMeans/\" \\\n",
    "    --desc-columns 22 --id-column \"subjectkey\" --pca --k 20 --m 2 --metric mahalanobis \\\n",
    "    --maxiter 5000 --error 1e-06 --cmap \"bone_r\" --radarplot \\\n",
    "    -v -f -s --processes 6"
   ]
  },
  {
   "cell_type": "markdown",
   "metadata": {},
   "source": [
    "#### **Projecting the BANDA and GESTE study**\n",
    "\n",
    "Next subsequent cells will use the ABCD's PCA model and centroids to project the data from the GESTE and BANDA study into ABCD's referential clustering space. \n"
   ]
  },
  {
   "cell_type": "code",
   "execution_count": 3,
   "metadata": {
    "vscode": {
     "languageId": "shellscript"
    }
   },
   "outputs": [
    {
     "name": "stdout",
     "output_type": "stream",
     "text": [
      "\u001b[32m2024-11-06 15:49:21\u001b[0m \u001b[35mAnthonys-MacBook-Pro.local\u001b[0m \u001b[34mroot[53835]\u001b[0m \u001b[1;30mINFO\u001b[0m Loading dataset(s)...\n",
      "\u001b[32m2024-11-06 15:49:21\u001b[0m \u001b[35mAnthonys-MacBook-Pro.local\u001b[0m \u001b[34mroot[53835]\u001b[0m \u001b[1;30mINFO\u001b[0m Loading PCA model...\n",
      "/Users/anthonygagnon/envs/neurostatx-0.1.0/lib/python3.11/site-packages/sklearn/base.py:376: InconsistentVersionWarning: Trying to unpickle estimator PCA from version 1.5.0 when using version 1.5.2. This might lead to breaking code or invalid results. Use at your own risk. For more info please refer to:\n",
      "https://scikit-learn.org/stable/model_persistence.html#security-maintainability-limitations\n",
      "  warnings.warn(\n",
      "\u001b[32m2024-11-06 15:49:21\u001b[0m \u001b[35mAnthonys-MacBook-Pro.local\u001b[0m \u001b[34mroot[53835]\u001b[0m \u001b[1;30mINFO\u001b[0m Predicting membership matrix...\n",
      "\u001b[32m2024-11-06 15:49:21\u001b[0m \u001b[35mAnthonys-MacBook-Pro.local\u001b[0m \u001b[34mroot[53835]\u001b[0m \u001b[1;30mINFO\u001b[0m Saving results...\n"
     ]
    }
   ],
   "source": [
    "# Projecting BANDA study using a CLI tool from neurostatx, this is a quick process.\n",
    "\n",
    "!PredictFuzzyMembership --in-dataset '{data_dir}/banda_data_preprocessed.xlsx' \\\n",
    "    --out-folder '{output_dir}/BANDAProjected/' \\\n",
    "    --in-cntr '{output_dir}/ABCDFuzzyCMeans/CENTROIDS/clusters_centroids_4.xlsx' \\\n",
    "    --desc-columns 17 --id-column subjectkey --pca \\\n",
    "    --pca-model '{output_dir}/ABCDFuzzyCMeans/PCA/pca_model.pkl' \\\n",
    "    --m 2 --error 1e-06 --maxiter 5000 --metric mahalanobis --radarplot \\\n",
    "    --cmap \"bone_r\" -v -s -f"
   ]
  },
  {
   "cell_type": "code",
   "execution_count": 4,
   "metadata": {
    "vscode": {
     "languageId": "shellscript"
    }
   },
   "outputs": [
    {
     "name": "stdout",
     "output_type": "stream",
     "text": [
      "\u001b[32m2024-11-06 15:49:45\u001b[0m \u001b[35mAnthonys-MacBook-Pro.local\u001b[0m \u001b[34mroot[54170]\u001b[0m \u001b[1;30mINFO\u001b[0m Loading dataset(s)...\n",
      "\u001b[32m2024-11-06 15:49:45\u001b[0m \u001b[35mAnthonys-MacBook-Pro.local\u001b[0m \u001b[34mroot[54170]\u001b[0m \u001b[1;30mINFO\u001b[0m Loading PCA model...\n",
      "/Users/anthonygagnon/envs/neurostatx-0.1.0/lib/python3.11/site-packages/sklearn/base.py:376: InconsistentVersionWarning: Trying to unpickle estimator PCA from version 1.5.0 when using version 1.5.2. This might lead to breaking code or invalid results. Use at your own risk. For more info please refer to:\n",
      "https://scikit-learn.org/stable/model_persistence.html#security-maintainability-limitations\n",
      "  warnings.warn(\n",
      "\u001b[32m2024-11-06 15:49:45\u001b[0m \u001b[35mAnthonys-MacBook-Pro.local\u001b[0m \u001b[34mroot[54170]\u001b[0m \u001b[1;30mINFO\u001b[0m Predicting membership matrix...\n",
      "\u001b[32m2024-11-06 15:49:45\u001b[0m \u001b[35mAnthonys-MacBook-Pro.local\u001b[0m \u001b[34mroot[54170]\u001b[0m \u001b[1;30mINFO\u001b[0m Saving results...\n"
     ]
    }
   ],
   "source": [
    "# Projecting GESTE study using a CLI tool from neurostatx, this is a quick process.\n",
    "\n",
    "!PredictFuzzyMembership --in-dataset '{data_dir}/geste_data_preprocessed.xlsx' \\\n",
    "    --out-folder '{output_dir}/GESTEProjected/' \\\n",
    "    --in-cntr '{output_dir}/ABCDFuzzyCMeans/CENTROIDS/clusters_centroids_4.xlsx' \\\n",
    "    --desc-columns 14 --id-column subjectkey --pca \\\n",
    "    --pca-model '{output_dir}/ABCDFuzzyCMeans/PCA/pca_model.pkl' \\\n",
    "    --m 2 --error 1e-06 --maxiter 5000 --metric mahalanobis --radarplot \\\n",
    "    --cmap \"bone_r\" -v -s -f"
   ]
  },
  {
   "cell_type": "markdown",
   "metadata": {},
   "source": [
    "#### **Concatenating membership values from all studies together and compute a Graph Network object.**\n",
    "\n",
    "In order to create a common Graph Network object, we need to concatenate all dataset together. The following cells will match columns between datasets, and append them together. Columns that are inexistant will be created and filled with zeros. "
   ]
  },
  {
   "cell_type": "code",
   "execution_count": 3,
   "metadata": {},
   "outputs": [],
   "source": [
    "# Load all datasets resulting from FCM analysis. \n",
    "abcd_fcm = load_df_in_any_format(f'{output_dir}/ABCDFuzzyCMeans/MEMBERSHIP_DF/clusters_membership_4.xlsx')\n",
    "banda_fcm = load_df_in_any_format(f'{output_dir}/BANDAProjected/predicted_membership_matrix.xlsx')\n",
    "geste_fcm = load_df_in_any_format(f'{output_dir}/GESTEProjected/predicted_membership_matrix.xlsx')"
   ]
  },
  {
   "cell_type": "code",
   "execution_count": 4,
   "metadata": {},
   "outputs": [],
   "source": [
    "# Find difference in column names between ABCD and BANDA.\n",
    "abcd_banda_diff = set(abcd_fcm.columns) ^ set(banda_fcm.columns)\n",
    "\n",
    "# Add missing columns to BANDA dataset.\n",
    "for col in abcd_banda_diff:\n",
    "    banda_fcm[col] = 0\n",
    "\n",
    "# Find difference in column names between ABCD and GESTE.\n",
    "abcd_geste_diff = set(abcd_fcm.columns) ^ set(geste_fcm.columns)\n",
    "\n",
    "# Add missing columns to GESTE dataset.\n",
    "for col in abcd_geste_diff:\n",
    "    geste_fcm[col] = 0"
   ]
  },
  {
   "cell_type": "code",
   "execution_count": 5,
   "metadata": {},
   "outputs": [],
   "source": [
    "# Reorder columns to match ABCD dataset.\n",
    "banda_matched = banda_fcm[abcd_fcm.columns]\n",
    "geste_matched = geste_fcm[abcd_fcm.columns]\n",
    "\n",
    "# Assert that all datasets have the same columns.\n",
    "assert all(abcd_fcm.columns == banda_matched.columns), \"Columns do not match between ABCD and BANDA.\"\n",
    "assert all(abcd_fcm.columns == geste_matched.columns), \"Columns do not match between ABCD and GESTE.\"\n",
    "\n",
    "# Other sanity checks that the datasets still have the same number of rows.\n",
    "assert len(banda_fcm) == len(banda_matched), \"Number of rows in the matched dataset changed, please validate.\"\n",
    "assert len(geste_fcm) == len(geste_matched), \"Number of rows in the matched dataset changed, please validate.\"\n",
    "\n",
    "# Sanity checks that random values are still the same in the datasets.\n",
    "assert all(banda_fcm.loc[:, 'Cluster #1'] == banda_matched.loc[:, 'Cluster #1']), \"Random value in BANDA dataset changed, please validate.\"\n",
    "assert all(banda_fcm.loc[:, 'AgeMonths'] == banda_matched.loc[:, 'AgeMonths']), \"Random value in BANDA dataset changed, please validate.\"\n",
    "assert all(geste_fcm.loc[:, 'Cluster #1'] == geste_matched.loc[:, 'Cluster #1']), \"Random value in GESTE dataset changed, please validate.\"\n",
    "assert all(geste_fcm.loc[:, 'AgeMonths'] == geste_matched.loc[:, 'AgeMonths']), \"Random value in GESTE dataset changed, please validate.\""
   ]
  },
  {
   "cell_type": "code",
   "execution_count": 6,
   "metadata": {},
   "outputs": [
    {
     "name": "stderr",
     "output_type": "stream",
     "text": [
      "/var/folders/23/p0fh1nrd473dtfz3cx_4g0j00000gn/T/ipykernel_62304/1418123853.py:7: FutureWarning: Downcasting behavior in `replace` is deprecated and will be removed in a future version. To retain the old behavior, explicitly call `result.infer_objects(copy=False)`. To opt-in to the future behavior, set `pd.set_option('future.no_silent_downcasting', True)`\n",
      "  final_fcm['Cohort'] = final_fcm['Cohort'].replace({'ABCD': 1, 'BANDA': 2, 'GESTE': 3})\n"
     ]
    }
   ],
   "source": [
    "# Concatenate all datasets.\n",
    "final_fcm = pd.concat([abcd_fcm, banda_matched, geste_matched],\n",
    "                      axis=0)\n",
    "\n",
    "# Replace string cohort identifiers with integers. This will make handling of\n",
    "# cohorts in the graph network object easier.\n",
    "final_fcm['Cohort'] = final_fcm['Cohort'].replace({'ABCD': 1, 'BANDA': 2, 'GESTE': 3})\n",
    "\n",
    "# Change Cohort column name to cohort.\n",
    "final_fcm.rename(columns={'Cohort': 'cohort'}, inplace=True)\n",
    "\n",
    "# Save final dataset.\n",
    "final_fcm.to_excel(f'{output_dir}/merged_fcm_data.xlsx', index=False, header=True)"
   ]
  },
  {
   "cell_type": "markdown",
   "metadata": {},
   "source": [
    "#### **Computing a Graph Network.**\n",
    "\n",
    "To visualize the clustering results, we need to construct a graph network object using a force-directed algorithm. It allows the use of graph network properties to evalute the subject distribution across the graph network and across profiles. To determine the optimal graph layout, we use the Fruchterman-Reingold force-directed algorithm, which can take a while to run for large graph such as this one."
   ]
  },
  {
   "cell_type": "code",
   "execution_count": 7,
   "metadata": {
    "vscode": {
     "languageId": "shellscript"
    }
   },
   "outputs": [
    {
     "name": "stdout",
     "output_type": "stream",
     "text": [
      "\u001b[32m2024-11-08 20:52:50\u001b[0m \u001b[35mAnthonys-MacBook-Pro.local\u001b[0m \u001b[34mroot[97761]\u001b[0m \u001b[1;30mINFO\u001b[0m Loading membership data.\n",
      "\u001b[32m2024-11-08 20:52:53\u001b[0m \u001b[35mAnthonys-MacBook-Pro.local\u001b[0m \u001b[34mroot[97761]\u001b[0m \u001b[1;30mINFO\u001b[0m Computing graph network layout.\n",
      "\u001b[32m2024-11-08 20:54:52\u001b[0m \u001b[35mAnthonys-MacBook-Pro.local\u001b[0m \u001b[34mroot[97761]\u001b[0m \u001b[1;30mINFO\u001b[0m Setting nodes position.\n",
      "\u001b[32m2024-11-08 20:54:52\u001b[0m \u001b[35mAnthonys-MacBook-Pro.local\u001b[0m \u001b[34mroot[97761]\u001b[0m \u001b[1;30mINFO\u001b[0m Importing data within the .gml file.\n"
     ]
    }
   ],
   "source": [
    "# Using the merged dataset, we will used a CLI script to generate a graph network.\n",
    "# ** This is a long running process. Go get a coffee ! **\n",
    "\n",
    "!ComputeGraphNetwork --in-dataset \"{output_dir}/merged_fcm_data.xlsx\" \\\n",
    "    --out-folder \"{output_dir}/GraphNetwork/\" --id-column \"subjectkey\" --desc-columns 28 \\\n",
    "    --layout spring --weight membership -v -f -s --import-data --plot-distribution"
   ]
  },
  {
   "cell_type": "code",
   "execution_count": 9,
   "metadata": {
    "vscode": {
     "languageId": "shellscript"
    }
   },
   "outputs": [],
   "source": [
    "# Copying and renaming the graph network file at the root of the output_dir.\n",
    "!cp -rL {output_dir}/GraphNetwork/network_graph_file.gml {output_dir}/GraphNetwork.gml"
   ]
  },
  {
   "cell_type": "markdown",
   "metadata": {},
   "source": [
    "#### **Visualization of the Graph Network and clustering results.**\n",
    "\n",
    "Once the network is generated, we can visualize it. The next cells will output a general visualization including all studies, allowing the visual inspection of the obtained clusters. It will also generate graph network with nodes highlighted for various pathology, using all studies or individually. Those files are general visualization of the results, for more sophisticated figures, please see the Visualization.ipynb notebook."
   ]
  },
  {
   "cell_type": "code",
   "execution_count": 10,
   "metadata": {
    "vscode": {
     "languageId": "shellscript"
    }
   },
   "outputs": [
    {
     "name": "stdout",
     "output_type": "stream",
     "text": [
      "\u001b[32m2024-11-08 20:55:06\u001b[0m \u001b[35mAnthonys-MacBook-Pro.local\u001b[0m \u001b[34mroot[608]\u001b[0m \u001b[1;30mINFO\u001b[0m Loading graph data.\n",
      "\u001b[32m2024-11-08 20:55:09\u001b[0m \u001b[35mAnthonys-MacBook-Pro.local\u001b[0m \u001b[34mroot[608]\u001b[0m \u001b[1;30mINFO\u001b[0m Generating graph.\n"
     ]
    }
   ],
   "source": [
    "# Visualizing the global graph network with all cohort merged, then highlighting subjects\n",
    "# from each cohort within the global network.\n",
    "\n",
    "!VisualizeGraphNetwork --in-graph \"{output_dir}/GraphNetwork.gml\" \\\n",
    "    --out-folder \"{output_dir}/VizNetwork/\" --weight membership --colormap bone_r \\\n",
    "    -v -s -f --title \"Global clustering results\" \\\n",
    "    --legend-title \"Membership Values\""
   ]
  },
  {
   "cell_type": "code",
   "execution_count": null,
   "metadata": {
    "vscode": {
     "languageId": "shellscript"
    }
   },
   "outputs": [
    {
     "name": "stdout",
     "output_type": "stream",
     "text": [
      "\u001b[32m2024-11-10 11:43:10\u001b[0m \u001b[35mAnthonys-MacBook-Pro.local\u001b[0m \u001b[34mroot[95127]\u001b[0m \u001b[1;30mINFO\u001b[0m Loading graph data.\n",
      "\u001b[32m2024-11-10 11:43:13\u001b[0m \u001b[35mAnthonys-MacBook-Pro.local\u001b[0m \u001b[34mroot[95127]\u001b[0m \u001b[1;30mINFO\u001b[0m Generating graph.\n",
      "\u001b[32m2024-11-10 11:43:17\u001b[0m \u001b[35mAnthonys-MacBook-Pro.local\u001b[0m \u001b[34mroot[95127]\u001b[0m \u001b[1;30mINFO\u001b[0m Constructing graph(s) with custom labels.\n"
     ]
    }
   ],
   "source": [
    "# Visualizing participants with a diagnosis of AD, ADHD, OCD, ODD, CD, DD,\n",
    "# and PSYPATHO index using all cohorts.\n",
    "\n",
    "!VisualizeGraphNetwork --in-graph \"{output_dir}/GraphNetwork.gml\" \\\n",
    "    --out-folder \"{output_dir}/VizNetworkDxGlobal/\" --weight membership --colormap bone_r \\\n",
    "    -v -s -f --label-name AD --label-name ADHD --label-name OCD --label-name ODD \\\n",
    "    --label-name CD --label-name DD --label-name PSYPATHO --title \"Global clustering results\" \\\n",
    "    --legend-title \"Membership Values\""
   ]
  },
  {
   "cell_type": "code",
   "execution_count": 12,
   "metadata": {
    "vscode": {
     "languageId": "shellscript"
    }
   },
   "outputs": [
    {
     "name": "stdout",
     "output_type": "stream",
     "text": [
      "\u001b[32m2024-11-08 20:55:51\u001b[0m \u001b[35mAnthonys-MacBook-Pro.local\u001b[0m \u001b[34mroot[1602]\u001b[0m \u001b[1;30mINFO\u001b[0m Loading graph data.\n",
      "\u001b[32m2024-11-08 20:55:54\u001b[0m \u001b[35mAnthonys-MacBook-Pro.local\u001b[0m \u001b[34mroot[1602]\u001b[0m \u001b[1;30mINFO\u001b[0m Generating graph.\n",
      "\u001b[32m2024-11-08 20:55:59\u001b[0m \u001b[35mAnthonys-MacBook-Pro.local\u001b[0m \u001b[34mroot[1602]\u001b[0m \u001b[1;30mINFO\u001b[0m Constructing graph(s) with custom labels.\n"
     ]
    }
   ],
   "source": [
    "# Visualizing participants with a diagnosis of AD, ADHD, OCD, ODD, CD, DD,\n",
    "# and PSYPATHO index using only the ABCD cohort.\n",
    "\n",
    "!VisualizeGraphNetwork --in-graph \"{output_dir}/GraphNetwork.gml\" \\\n",
    "    --out-folder \"{output_dir}/VizNetworkDxABCD/\" --weight membership --colormap bone_r \\\n",
    "    -v -s -f --label-name AD --label-name ADHD --label-name OCD --label-name ODD \\\n",
    "    --label-name CD --label-name DD --label-name PSYPATHO --title \"ABCD clustering results\" \\\n",
    "    --legend-title \"Membership Values\" --cohort 1"
   ]
  },
  {
   "cell_type": "code",
   "execution_count": 13,
   "metadata": {
    "vscode": {
     "languageId": "shellscript"
    }
   },
   "outputs": [
    {
     "name": "stdout",
     "output_type": "stream",
     "text": [
      "\u001b[32m2024-11-08 20:56:27\u001b[0m \u001b[35mAnthonys-MacBook-Pro.local\u001b[0m \u001b[34mroot[2306]\u001b[0m \u001b[1;30mINFO\u001b[0m Loading graph data.\n",
      "\u001b[32m2024-11-08 20:56:30\u001b[0m \u001b[35mAnthonys-MacBook-Pro.local\u001b[0m \u001b[34mroot[2306]\u001b[0m \u001b[1;30mINFO\u001b[0m Generating graph.\n",
      "\u001b[32m2024-11-08 20:56:34\u001b[0m \u001b[35mAnthonys-MacBook-Pro.local\u001b[0m \u001b[34mroot[2306]\u001b[0m \u001b[1;30mINFO\u001b[0m Constructing graph(s) with custom labels.\n"
     ]
    }
   ],
   "source": [
    "# Visualizing participants with a diagnosis of AD, ADHD, OCD, ODD, CD, DD,\n",
    "# and PSYPATHO index using only the BANDA cohort.\n",
    "\n",
    "!VisualizeGraphNetwork --in-graph \"{output_dir}/GraphNetwork.gml\" \\\n",
    "    --out-folder \"{output_dir}/VizNetworkDxBANDA/\" --weight membership --colormap bone_r \\\n",
    "    -v -s -f --label-name AD --label-name ADHD --label-name OCD --label-name ODD \\\n",
    "    --label-name CD --label-name DD --label-name PSYPATHO --title \"BANDA clustering results\" \\\n",
    "    --legend-title \"Membership Values\" --cohort 2"
   ]
  },
  {
   "cell_type": "code",
   "execution_count": 14,
   "metadata": {
    "vscode": {
     "languageId": "shellscript"
    }
   },
   "outputs": [
    {
     "name": "stdout",
     "output_type": "stream",
     "text": [
      "\u001b[32m2024-11-08 20:57:02\u001b[0m \u001b[35mAnthonys-MacBook-Pro.local\u001b[0m \u001b[34mroot[2973]\u001b[0m \u001b[1;30mINFO\u001b[0m Loading graph data.\n",
      "\u001b[32m2024-11-08 20:57:05\u001b[0m \u001b[35mAnthonys-MacBook-Pro.local\u001b[0m \u001b[34mroot[2973]\u001b[0m \u001b[1;30mINFO\u001b[0m Generating graph.\n",
      "\u001b[32m2024-11-08 20:57:09\u001b[0m \u001b[35mAnthonys-MacBook-Pro.local\u001b[0m \u001b[34mroot[2973]\u001b[0m \u001b[1;30mINFO\u001b[0m Constructing graph(s) with custom labels.\n"
     ]
    }
   ],
   "source": [
    "# Visualizing participants with a diagnosis of ADHD\n",
    "# and PSYPATHO index using only the GESTE cohort.\n",
    "\n",
    "!VisualizeGraphNetwork --in-graph \"{output_dir}/GraphNetwork.gml\" \\\n",
    "    --out-folder \"{output_dir}/VizNetworkDxGESTE/\" --weight membership --colormap bone_r \\\n",
    "    -v -s -f --label-name ADHD --label-name PSYPATHO --title \"GESTE clustering results\" \\\n",
    "    --legend-title \"Membership Values\" --cohort 3"
   ]
  }
 ],
 "metadata": {
  "kernelspec": {
   "display_name": "neurostatx-0.1.0",
   "language": "python",
   "name": "python3"
  },
  "language_info": {
   "codemirror_mode": {
    "name": "ipython",
    "version": 3
   },
   "file_extension": ".py",
   "mimetype": "text/x-python",
   "name": "python",
   "nbconvert_exporter": "python",
   "pygments_lexer": "ipython3",
   "version": "3.11.9"
  }
 },
 "nbformat": 4,
 "nbformat_minor": 2
}
