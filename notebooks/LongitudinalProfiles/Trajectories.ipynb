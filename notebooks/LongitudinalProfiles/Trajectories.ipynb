{
 "cells": [
  {
   "cell_type": "markdown",
   "id": "ffdf7513",
   "metadata": {},
   "source": [
    "#### Understanding the trajectories amongst individual.\n",
    "\n",
    "The following cells will inspect how individual are moving across profiles between time point, and which factors are driving those trajectories."
   ]
  },
  {
   "cell_type": "code",
   "execution_count": null,
   "id": "18a90a2a",
   "metadata": {},
   "outputs": [],
   "source": [
    "# Imports\n",
    "import os\n",
    "\n",
    "import numpy as np\n",
    "import pandas as pd\n",
    "import plotly.graph_objects as go\n",
    "import matplotlib.pyplot as plt\n",
    "from matplotlib.colors import LinearSegmentedColormap\n",
    "from matplotlib import font_manager\n",
    "import seaborn as sns"
   ]
  },
  {
   "cell_type": "code",
   "execution_count": 2,
   "id": "f8e8e48b",
   "metadata": {},
   "outputs": [],
   "source": [
    "# Setting up relevant paths.\n",
    "repository_path = \"/Users/anthonygagnon/code/Article-s-code/\" # CHANGE THIS\n",
    "abcd_base_path = \"/Volumes/T7/CCPM/ABCD/Release_5.1/abcd-data-release-5.1/\" # CHANGE THIS\n",
    "output_folder = \"/Volumes/T7/CCPM/RESULTS_JUNE_24/LongitudinalProfiles\" # CHANGE THIS\n",
    "\n",
    "# Setting up the paths for output subfolder.\n",
    "output_dir = f\"{output_folder}/trajectories/\" # DO NOT CHANGE THIS\n",
    "os.makedirs(output_dir, exist_ok=True)"
   ]
  },
  {
   "cell_type": "code",
   "execution_count": 3,
   "id": "1cf09e52",
   "metadata": {},
   "outputs": [
    {
     "data": {
      "image/png": "[encoded data removed]",
      "text/html": [
       "<div style=\"vertical-align: middle;\"><strong>CustomSet2</strong> </div><div class=\"cmap\"><img alt=\"CustomSet2 colormap\" title=\"CustomSet2\" style=\"border: 1px solid #555;\" src=\"data:image/png;base64,iVBORw0KGgoAAAANSUhEUgAAAgAAAABACAYAAABsv8+/AAAAGXRFWHRUaXRsZQBDdXN0b21TZXQyIGNvbG9ybWFwpTJqkAAAAB90RVh0RGVzY3JpcHRpb24AQ3VzdG9tU2V0MiBjb2xvcm1hcN8aq94AAAAxdEVYdEF1dGhvcgBNYXRwbG90bGliIHYzLjEwLjEsIGh0dHBzOi8vbWF0cGxvdGxpYi5vcmcWHF4IAAAAM3RFWHRTb2Z0d2FyZQBNYXRwbG90bGliIHYzLjEwLjEsIGh0dHBzOi8vbWF0cGxvdGxpYi5vcmezOE38AAABv0lEQVR4nO3WUUrDQBRA0YmLdWduxI3phybQypCkUSnccz6kdWjnhRn0Lq/vbx9jjDG+fo5l3Nre761/v1o+ZutjZ305t990/fY35+e5+/zD89w9z9F5tu+bfP7oPNt+k+c5PM9ybL8/vh+nz3U618l79mO/q+e6vn/wnm37XT3Xdb+de7b7fQfPddtvtn7wnk3neY77MT3Xo3Pt3bOjc10+13V953l257l6rrev/v3v8a//f3iO+7HO8TIAgBwBAABBAgAAggQAAAQJAAAIEgAAECQAACBIAABAkAAAgCABAABBAgAAggQAAAQJAAAIEgAAECQAACBIAABAkAAAgCABAABBAgAAggQAAAQJAAAIEgAAECQAACBIAABAkAAAgCABAABBAgAAggQAAAQJAAAIEgAAECQAACBIAABAkAAAgCABAABBAgAAggQAAAQJAAAIEgAAECQAACBIAABAkAAAgCABAABBAgAAggQAAAQJAAAIEgAAECQAACBIAABAkAAAgCABAABBAgAAggQAAAQJAAAIEgAAECQAACBIAABAkAAAgCABAABBAgAAggQAAAQJAAAIEgAAECQAACDoE6DpO7MrhY1tAAAAAElFTkSuQmCC\"></div><div style=\"vertical-align: middle; max-width: 514px; display: flex; justify-content: space-between;\"><div style=\"float: left;\"><div title=\"#66c2a5ff\" style=\"display: inline-block; width: 1em; height: 1em; margin: 0; vertical-align: middle; border: 1px solid #555; background-color: #66c2a5ff;\"></div> under</div><div style=\"margin: 0 auto; display: inline-block;\">bad <div title=\"#00000000\" style=\"display: inline-block; width: 1em; height: 1em; margin: 0; vertical-align: middle; border: 1px solid #555; background-color: #00000000;\"></div></div><div style=\"float: right;\">over <div title=\"#e78ac3ff\" style=\"display: inline-block; width: 1em; height: 1em; margin: 0; vertical-align: middle; border: 1px solid #555; background-color: #e78ac3ff;\"></div></div></div>"
      ],
      "text/plain": [
       "<matplotlib.colors.LinearSegmentedColormap at 0x319b30750>"
      ]
     },
     "execution_count": 3,
     "metadata": {},
     "output_type": "execute_result"
    }
   ],
   "source": [
    "# Fetch Harding font.\n",
    "font_files = []\n",
    "for fontpath in font_manager.findSystemFonts(fontpaths=None, fontext='ttf'):\n",
    "    if \"Harding\".lower() in fontpath.lower():\n",
    "        font_files.append(fontpath)\n",
    "for font_file in font_files:\n",
    "    font_manager.fontManager.addfont(font_file)\n",
    "\n",
    "# Set Harding font.\n",
    "plt.rcParams['font.family'] = 'Harding Text Web'\n",
    "\n",
    "# Set the Set2 color palette as an iterable.\n",
    "cmap = sns.color_palette(\"Set2\", 8)\n",
    "\n",
    "# Continuous color palette.\n",
    "set2 = plt.get_cmap(\"Set2\")\n",
    "color_start = set2(0)\n",
    "color_end = set2(3)\n",
    "custom_cmap = LinearSegmentedColormap.from_list(\"CustomSet2\", [color_start, color_end])\n",
    "custom_cmap"
   ]
  },
  {
   "cell_type": "code",
   "execution_count": 4,
   "id": "0079df4c",
   "metadata": {},
   "outputs": [],
   "source": [
    "# Fetch the profiles data for each timepoint.\n",
    "df_baseline = pd.read_excel(f\"{output_folder}/../fuzzyclustering/merged_fcm_data.xlsx\")\n",
    "df_2y = pd.read_excel(f\"{output_folder}/fuzzyclustering/fcm_2y.xlsx\")\n",
    "df_4y = pd.read_excel(f\"{output_folder}/fuzzyclustering/fcm_4y.xlsx\")"
   ]
  },
  {
   "cell_type": "code",
   "execution_count": 5,
   "id": "8c2222c0",
   "metadata": {},
   "outputs": [
    {
     "name": "stdout",
     "output_type": "stream",
     "text": [
      "Number of common subjects: 2359\n"
     ]
    }
   ],
   "source": [
    "# Fetch the labels of the main cluster.\n",
    "df_baseline[\"main_profile\"] = np.argmax(df_baseline.iloc[:, 28:32].values, axis=1)\n",
    "df_2y[\"main_profile\"] = np.argmax(df_2y.iloc[:, 28:32].values, axis=1)\n",
    "df_4y[\"main_profile\"] = np.argmax(df_4y.iloc[:, 19:23].values, axis=1)\n",
    "\n",
    "# Create a list containing only the subjects that are common to all timepoints.\n",
    "common_subjects = list(set(df_baseline[\"subjectkey\"]) & set(df_2y[\"subjectkey\"]) & set(df_4y[\"subjectkey\"]))\n",
    "print(f\"Number of common subjects: {len(common_subjects)}\")\n",
    "\n",
    "# Filter the dataframes to keep only the common subjects.\n",
    "df_baseline = df_baseline[df_baseline[\"subjectkey\"].isin(common_subjects)]\n",
    "df_2y = df_2y[df_2y[\"subjectkey\"].isin(common_subjects)]\n",
    "df_4y = df_4y[df_4y[\"subjectkey\"].isin(common_subjects)]"
   ]
  },
  {
   "cell_type": "code",
   "execution_count": 36,
   "id": "fdcf049b",
   "metadata": {},
   "outputs": [
    {
     "data": {
      "application/vnd.plotly.v1+json": {
       "config": {
        "plotlyServerURL": "https://plot.ly"
       },
       "data": [
        {
         "link": {
          "color": [
           "rgba(102, 194, 165, 1)",
           "rgba(102, 194, 165, 1)",
           "rgba(102, 194, 165, 1)",
           "rgba(102, 194, 165, 1)",
           "rgba(136, 179, 173, 1)",
           "rgba(136, 179, 173, 1)",
           "rgba(136, 179, 173, 1)",
           "rgba(136, 179, 173, 1)",
           "rgba(171, 164, 181, 1)",
           "rgba(171, 164, 181, 1)",
           "rgba(171, 164, 181, 1)",
           "rgba(171, 164, 181, 1)",
           "rgba(205, 149, 189, 1)",
           "rgba(205, 149, 189, 1)",
           "rgba(205, 149, 189, 1)",
           "rgba(205, 149, 189, 1)",
           "rgba(102, 194, 165, 1)",
           "rgba(102, 194, 165, 1)",
           "rgba(102, 194, 165, 1)",
           "rgba(102, 194, 165, 1)",
           "rgba(136, 179, 173, 1)",
           "rgba(136, 179, 173, 1)",
           "rgba(136, 179, 173, 1)",
           "rgba(136, 179, 173, 1)",
           "rgba(171, 164, 181, 1)",
           "rgba(171, 164, 181, 1)",
           "rgba(171, 164, 181, 1)",
           "rgba(171, 164, 181, 1)",
           "rgba(205, 149, 189, 1)",
           "rgba(205, 149, 189, 1)",
           "rgba(205, 149, 189, 1)",
           "rgba(205, 149, 189, 1)"
          ],
          "source": [
           0,
           0,
           0,
           0,
           1,
           1,
           1,
           1,
           2,
           2,
           2,
           2,
           3,
           3,
           3,
           3,
           4,
           4,
           4,
           4,
           5,
           5,
           5,
           5,
           6,
           6,
           6,
           6,
           7,
           7,
           7,
           7
          ],
          "target": [
           4,
           5,
           6,
           7,
           4,
           5,
           6,
           7,
           4,
           5,
           6,
           7,
           4,
           5,
           6,
           7,
           8,
           9,
           10,
           11,
           8,
           9,
           10,
           11,
           8,
           9,
           10,
           11,
           8,
           9,
           10,
           11
          ],
          "value": [
           193,
           47,
           102,
           86,
           33,
           168,
           48,
           59,
           88,
           67,
           639,
           134,
           64,
           48,
           105,
           478,
           175,
           56,
           75,
           72,
           35,
           156,
           66,
           73,
           107,
           46,
           592,
           149,
           56,
           48,
           103,
           550
          ]
         },
         "node": {
          "color": [
           "rgba(102, 194, 165, 1)",
           "rgba(136, 179, 173, 1)",
           "rgba(171, 164, 181, 1)",
           "rgba(205, 149, 189, 1)",
           "rgba(102, 194, 165, 1)",
           "rgba(136, 179, 173, 1)",
           "rgba(171, 164, 181, 1)",
           "rgba(205, 149, 189, 1)",
           "rgba(102, 194, 165, 1)",
           "rgba(136, 179, 173, 1)",
           "rgba(171, 164, 181, 1)",
           "rgba(205, 149, 189, 1)"
          ],
          "label": [
           "MC/HSI",
           "MC/HE",
           "HC/LB",
           "LC/LB",
           "MC/HSI",
           "MC/HE",
           "HC/LB",
           "LC/LB",
           "MC/HSI",
           "MC/HE",
           "HC/LB",
           "LC/LB"
          ],
          "line": {
           "color": "black",
           "width": 1.5
          },
          "pad": 35,
          "thickness": 20,
          "x": [
           0,
           0,
           0,
           0,
           0.5,
           0.5,
           0.5,
           0.5,
           1,
           1,
           1,
           1
          ],
          "y": [
           0.5,
           0.4,
           0.3,
           0.2,
           0.2,
           0.8,
           -0.1,
           1.1,
           0,
           0,
           0,
           0
          ]
         },
         "type": "sankey"
        }
       ],
       "layout": {
        "annotations": [
         {
          "font": {
           "size": 20,
           "weight": "bold"
          },
          "showarrow": false,
          "text": "9-11 years old",
          "x": -0.02,
          "y": 1.35
         },
         {
          "font": {
           "size": 20,
           "weight": "bold"
          },
          "showarrow": false,
          "text": "11-13 years old",
          "x": 0.5,
          "y": 1.35
         },
         {
          "font": {
           "size": 20,
           "weight": "bold"
          },
          "showarrow": false,
          "text": "13-15 years old",
          "x": 1,
          "y": 1.35
         }
        ],
        "autosize": true,
        "font": {
         "family": "Harding Text Web",
         "size": 20
        },
        "margin": {
         "b": 100,
         "l": 50,
         "r": 50,
         "t": 100
        },
        "template": {
         "data": {
          "bar": [
           {
            "error_x": {
             "color": "#2a3f5f"
            },
            "error_y": {
             "color": "#2a3f5f"
            },
            "marker": {
             "line": {
              "color": "#E5ECF6",
              "width": 0.5
             },
             "pattern": {
              "fillmode": "overlay",
              "size": 10,
              "solidity": 0.2
             }
            },
            "type": "bar"
           }
          ],
          "barpolar": [
           {
            "marker": {
             "line": {
              "color": "#E5ECF6",
              "width": 0.5
             },
             "pattern": {
              "fillmode": "overlay",
              "size": 10,
              "solidity": 0.2
             }
            },
            "type": "barpolar"
           }
          ],
          "carpet": [
           {
            "aaxis": {
             "endlinecolor": "#2a3f5f",
             "gridcolor": "white",
             "linecolor": "white",
             "minorgridcolor": "white",
             "startlinecolor": "#2a3f5f"
            },
            "baxis": {
             "endlinecolor": "#2a3f5f",
             "gridcolor": "white",
             "linecolor": "white",
             "minorgridcolor": "white",
             "startlinecolor": "#2a3f5f"
            },
            "type": "carpet"
           }
          ],
          "choropleth": [
           {
            "colorbar": {
             "outlinewidth": 0,
             "ticks": ""
            },
            "type": "choropleth"
           }
          ],
          "contour": [
           {
            "colorbar": {
             "outlinewidth": 0,
             "ticks": ""
            },
            "colorscale": [
             [
              0,
              "#0d0887"
             ],
             [
              0.1111111111111111,
              "#46039f"
             ],
             [
              0.2222222222222222,
              "#7201a8"
             ],
             [
              0.3333333333333333,
              "#9c179e"
             ],
             [
              0.4444444444444444,
              "#bd3786"
             ],
             [
              0.5555555555555556,
              "#d8576b"
             ],
             [
              0.6666666666666666,
              "#ed7953"
             ],
             [
              0.7777777777777778,
              "#fb9f3a"
             ],
             [
              0.8888888888888888,
              "#fdca26"
             ],
             [
              1,
              "#f0f921"
             ]
            ],
            "type": "contour"
           }
          ],
          "contourcarpet": [
           {
            "colorbar": {
             "outlinewidth": 0,
             "ticks": ""
            },
            "type": "contourcarpet"
           }
          ],
          "heatmap": [
           {
            "colorbar": {
             "outlinewidth": 0,
             "ticks": ""
            },
            "colorscale": [
             [
              0,
              "#0d0887"
             ],
             [
              0.1111111111111111,
              "#46039f"
             ],
             [
              0.2222222222222222,
              "#7201a8"
             ],
             [
              0.3333333333333333,
              "#9c179e"
             ],
             [
              0.4444444444444444,
              "#bd3786"
             ],
             [
              0.5555555555555556,
              "#d8576b"
             ],
             [
              0.6666666666666666,
              "#ed7953"
             ],
             [
              0.7777777777777778,
              "#fb9f3a"
             ],
             [
              0.8888888888888888,
              "#fdca26"
             ],
             [
              1,
              "#f0f921"
             ]
            ],
            "type": "heatmap"
           }
          ],
          "histogram": [
           {
            "marker": {
             "pattern": {
              "fillmode": "overlay",
              "size": 10,
              "solidity": 0.2
             }
            },
            "type": "histogram"
           }
          ],
          "histogram2d": [
           {
            "colorbar": {
             "outlinewidth": 0,
             "ticks": ""
            },
            "colorscale": [
             [
              0,
              "#0d0887"
             ],
             [
              0.1111111111111111,
              "#46039f"
             ],
             [
              0.2222222222222222,
              "#7201a8"
             ],
             [
              0.3333333333333333,
              "#9c179e"
             ],
             [
              0.4444444444444444,
              "#bd3786"
             ],
             [
              0.5555555555555556,
              "#d8576b"
             ],
             [
              0.6666666666666666,
              "#ed7953"
             ],
             [
              0.7777777777777778,
              "#fb9f3a"
             ],
             [
              0.8888888888888888,
              "#fdca26"
             ],
             [
              1,
              "#f0f921"
             ]
            ],
            "type": "histogram2d"
           }
          ],
          "histogram2dcontour": [
           {
            "colorbar": {
             "outlinewidth": 0,
             "ticks": ""
            },
            "colorscale": [
             [
              0,
              "#0d0887"
             ],
             [
              0.1111111111111111,
              "#46039f"
             ],
             [
              0.2222222222222222,
              "#7201a8"
             ],
             [
              0.3333333333333333,
              "#9c179e"
             ],
             [
              0.4444444444444444,
              "#bd3786"
             ],
             [
              0.5555555555555556,
              "#d8576b"
             ],
             [
              0.6666666666666666,
              "#ed7953"
             ],
             [
              0.7777777777777778,
              "#fb9f3a"
             ],
             [
              0.8888888888888888,
              "#fdca26"
             ],
             [
              1,
              "#f0f921"
             ]
            ],
            "type": "histogram2dcontour"
           }
          ],
          "mesh3d": [
           {
            "colorbar": {
             "outlinewidth": 0,
             "ticks": ""
            },
            "type": "mesh3d"
           }
          ],
          "parcoords": [
           {
            "line": {
             "colorbar": {
              "outlinewidth": 0,
              "ticks": ""
             }
            },
            "type": "parcoords"
           }
          ],
          "pie": [
           {
            "automargin": true,
            "type": "pie"
           }
          ],
          "scatter": [
           {
            "fillpattern": {
             "fillmode": "overlay",
             "size": 10,
             "solidity": 0.2
            },
            "type": "scatter"
           }
          ],
          "scatter3d": [
           {
            "line": {
             "colorbar": {
              "outlinewidth": 0,
              "ticks": ""
             }
            },
            "marker": {
             "colorbar": {
              "outlinewidth": 0,
              "ticks": ""
             }
            },
            "type": "scatter3d"
           }
          ],
          "scattercarpet": [
           {
            "marker": {
             "colorbar": {
              "outlinewidth": 0,
              "ticks": ""
             }
            },
            "type": "scattercarpet"
           }
          ],
          "scattergeo": [
           {
            "marker": {
             "colorbar": {
              "outlinewidth": 0,
              "ticks": ""
             }
            },
            "type": "scattergeo"
           }
          ],
          "scattergl": [
           {
            "marker": {
             "colorbar": {
              "outlinewidth": 0,
              "ticks": ""
             }
            },
            "type": "scattergl"
           }
          ],
          "scattermap": [
           {
            "marker": {
             "colorbar": {
              "outlinewidth": 0,
              "ticks": ""
             }
            },
            "type": "scattermap"
           }
          ],
          "scattermapbox": [
           {
            "marker": {
             "colorbar": {
              "outlinewidth": 0,
              "ticks": ""
             }
            },
            "type": "scattermapbox"
           }
          ],
          "scatterpolar": [
           {
            "marker": {
             "colorbar": {
              "outlinewidth": 0,
              "ticks": ""
             }
            },
            "type": "scatterpolar"
           }
          ],
          "scatterpolargl": [
           {
            "marker": {
             "colorbar": {
              "outlinewidth": 0,
              "ticks": ""
             }
            },
            "type": "scatterpolargl"
           }
          ],
          "scatterternary": [
           {
            "marker": {
             "colorbar": {
              "outlinewidth": 0,
              "ticks": ""
             }
            },
            "type": "scatterternary"
           }
          ],
          "surface": [
           {
            "colorbar": {
             "outlinewidth": 0,
             "ticks": ""
            },
            "colorscale": [
             [
              0,
              "#0d0887"
             ],
             [
              0.1111111111111111,
              "#46039f"
             ],
             [
              0.2222222222222222,
              "#7201a8"
             ],
             [
              0.3333333333333333,
              "#9c179e"
             ],
             [
              0.4444444444444444,
              "#bd3786"
             ],
             [
              0.5555555555555556,
              "#d8576b"
             ],
             [
              0.6666666666666666,
              "#ed7953"
             ],
             [
              0.7777777777777778,
              "#fb9f3a"
             ],
             [
              0.8888888888888888,
              "#fdca26"
             ],
             [
              1,
              "#f0f921"
             ]
            ],
            "type": "surface"
           }
          ],
          "table": [
           {
            "cells": {
             "fill": {
              "color": "#EBF0F8"
             },
             "line": {
              "color": "white"
             }
            },
            "header": {
             "fill": {
              "color": "#C8D4E3"
             },
             "line": {
              "color": "white"
             }
            },
            "type": "table"
           }
          ]
         },
         "layout": {
          "annotationdefaults": {
           "arrowcolor": "#2a3f5f",
           "arrowhead": 0,
           "arrowwidth": 1
          },
          "autotypenumbers": "strict",
          "coloraxis": {
           "colorbar": {
            "outlinewidth": 0,
            "ticks": ""
           }
          },
          "colorscale": {
           "diverging": [
            [
             0,
             "#8e0152"
            ],
            [
             0.1,
             "#c51b7d"
            ],
            [
             0.2,
             "#de77ae"
            ],
            [
             0.3,
             "#f1b6da"
            ],
            [
             0.4,
             "#fde0ef"
            ],
            [
             0.5,
             "#f7f7f7"
            ],
            [
             0.6,
             "#e6f5d0"
            ],
            [
             0.7,
             "#b8e186"
            ],
            [
             0.8,
             "#7fbc41"
            ],
            [
             0.9,
             "#4d9221"
            ],
            [
             1,
             "#276419"
            ]
           ],
           "sequential": [
            [
             0,
             "#0d0887"
            ],
            [
             0.1111111111111111,
             "#46039f"
            ],
            [
             0.2222222222222222,
             "#7201a8"
            ],
            [
             0.3333333333333333,
             "#9c179e"
            ],
            [
             0.4444444444444444,
             "#bd3786"
            ],
            [
             0.5555555555555556,
             "#d8576b"
            ],
            [
             0.6666666666666666,
             "#ed7953"
            ],
            [
             0.7777777777777778,
             "#fb9f3a"
            ],
            [
             0.8888888888888888,
             "#fdca26"
            ],
            [
             1,
             "#f0f921"
            ]
           ],
           "sequentialminus": [
            [
             0,
             "#0d0887"
            ],
            [
             0.1111111111111111,
             "#46039f"
            ],
            [
             0.2222222222222222,
             "#7201a8"
            ],
            [
             0.3333333333333333,
             "#9c179e"
            ],
            [
             0.4444444444444444,
             "#bd3786"
            ],
            [
             0.5555555555555556,
             "#d8576b"
            ],
            [
             0.6666666666666666,
             "#ed7953"
            ],
            [
             0.7777777777777778,
             "#fb9f3a"
            ],
            [
             0.8888888888888888,
             "#fdca26"
            ],
            [
             1,
             "#f0f921"
            ]
           ]
          },
          "colorway": [
           "#636efa",
           "#EF553B",
           "#00cc96",
           "#ab63fa",
           "#FFA15A",
           "#19d3f3",
           "#FF6692",
           "#B6E880",
           "#FF97FF",
           "#FECB52"
          ],
          "font": {
           "color": "#2a3f5f"
          },
          "geo": {
           "bgcolor": "white",
           "lakecolor": "white",
           "landcolor": "#E5ECF6",
           "showlakes": true,
           "showland": true,
           "subunitcolor": "white"
          },
          "hoverlabel": {
           "align": "left"
          },
          "hovermode": "closest",
          "mapbox": {
           "style": "light"
          },
          "paper_bgcolor": "white",
          "plot_bgcolor": "#E5ECF6",
          "polar": {
           "angularaxis": {
            "gridcolor": "white",
            "linecolor": "white",
            "ticks": ""
           },
           "bgcolor": "#E5ECF6",
           "radialaxis": {
            "gridcolor": "white",
            "linecolor": "white",
            "ticks": ""
           }
          },
          "scene": {
           "xaxis": {
            "backgroundcolor": "#E5ECF6",
            "gridcolor": "white",
            "gridwidth": 2,
            "linecolor": "white",
            "showbackground": true,
            "ticks": "",
            "zerolinecolor": "white"
           },
           "yaxis": {
            "backgroundcolor": "#E5ECF6",
            "gridcolor": "white",
            "gridwidth": 2,
            "linecolor": "white",
            "showbackground": true,
            "ticks": "",
            "zerolinecolor": "white"
           },
           "zaxis": {
            "backgroundcolor": "#E5ECF6",
            "gridcolor": "white",
            "gridwidth": 2,
            "linecolor": "white",
            "showbackground": true,
            "ticks": "",
            "zerolinecolor": "white"
           }
          },
          "shapedefaults": {
           "line": {
            "color": "#2a3f5f"
           }
          },
          "ternary": {
           "aaxis": {
            "gridcolor": "white",
            "linecolor": "white",
            "ticks": ""
           },
           "baxis": {
            "gridcolor": "white",
            "linecolor": "white",
            "ticks": ""
           },
           "bgcolor": "#E5ECF6",
           "caxis": {
            "gridcolor": "white",
            "linecolor": "white",
            "ticks": ""
           }
          },
          "title": {
           "x": 0.05
          },
          "xaxis": {
           "automargin": true,
           "gridcolor": "white",
           "linecolor": "white",
           "ticks": "",
           "title": {
            "standoff": 15
           },
           "zerolinecolor": "white",
           "zerolinewidth": 2
          },
          "yaxis": {
           "automargin": true,
           "gridcolor": "white",
           "linecolor": "white",
           "ticks": "",
           "title": {
            "standoff": 15
           },
           "zerolinecolor": "white",
           "zerolinewidth": 2
          }
         }
        },
        "title": {
         "x": 0.5,
         "y": 0.07
        },
        "yaxis": {
         "automargin": true
        }
       }
      }
     },
     "metadata": {},
     "output_type": "display_data"
    }
   ],
   "source": [
    "# Define the labels for the main profiles\n",
    "labels = [\"MC/HSI\", \"MC/HE\", \"HC/LB\", \"LC/LB\",\n",
    "          \"MC/HSI\", \"MC/HE\", \"HC/LB\", \"LC/LB\",\n",
    "          \"MC/HSI\", \"MC/HE\", \"HC/LB\", \"LC/LB\"]\n",
    "\n",
    "# Set custom nodes positions.\n",
    "node_positions_x = [0, 0, 0, 0, 0.5, 0.5, 0.5, 0.5, 1, 1, 1, 1]\n",
    "node_positions_y = [0.5, 0.4, 0.3, 0.2, 0.2, 0.8, -0.1, 1.1, 0, 0, 0, 0]\n",
    "\n",
    "# Define the colors for each profile using the Set2 colormap\n",
    "colors = []\n",
    "for i in range(4):\n",
    "    rgba = custom_cmap(i / 3 * 0.80)\n",
    "    r, g, b = [float(c) * 255 for c in rgba[:3]]\n",
    "    colors.append(f\"rgba({r:.0f}, {g:.0f}, {b:.0f}, 1)\")\n",
    "colors *= 3  # Repeat for each time point\n",
    "\n",
    "# Define the source and target indices for the Sankey diagram\n",
    "source = []\n",
    "target = []\n",
    "value = []\n",
    "link_colors = []\n",
    "\n",
    "# Count the transitions from baseline to 2y\n",
    "for i in range(4):\n",
    "    for j in range(4):\n",
    "        count = ((df_baseline[\"main_profile\"].values == i) & (df_2y[\"main_profile\"].values == j)).sum()\n",
    "        if count > 0:\n",
    "            source.append(i)\n",
    "            target.append(4 + j)\n",
    "            value.append(count)\n",
    "            rgba = custom_cmap(i / 3 * 0.80)\n",
    "            r, g, b = [float(c) * 255 for c in rgba[:3]]\n",
    "            link_colors.append(f\"rgba({r:.0f}, {g:.0f}, {b:.0f}, 1)\")\n",
    "\n",
    "# Count the transitions from 2y to 4y\n",
    "for i in range(4):\n",
    "    for j in range(4):\n",
    "        count = ((df_2y[\"main_profile\"].values == i) & (df_4y[\"main_profile\"].values == j)).sum()\n",
    "        if count > 0:\n",
    "            source.append(4 + i)\n",
    "            target.append(8 + j)\n",
    "            value.append(count)\n",
    "            rgba = custom_cmap(i / 3 * 0.80)\n",
    "            r, g, b = [float(c) * 255 for c in rgba[:3]]\n",
    "            link_colors.append(f\"rgba({r:.0f}, {g:.0f}, {b:.0f}, 1)\")\n",
    "\n",
    "# Create the Sankey diagram\n",
    "fig = go.Figure(data=[go.Sankey(\n",
    "    node=dict(\n",
    "        pad=35,  # Increase the pad for the middle time point\n",
    "        thickness=20,\n",
    "        line=dict(color=\"black\", width=1.5),\n",
    "        label=labels,\n",
    "        color=colors,\n",
    "        x=node_positions_x,\n",
    "        y=node_positions_y\n",
    "    ),\n",
    "    link=dict(\n",
    "        source=source,\n",
    "        target=target,\n",
    "        value=value,\n",
    "        color=link_colors,\n",
    "    ),\n",
    ")])\n",
    "\n",
    "# Add annotations for the time points\n",
    "#txt = \"<b>Figure 1.</b> Sankey Diagram of ABCD's participants transition between profiles from baseline to <br> 2-year follow-up and 2-year follow-up to 4-year follow-up. \"\n",
    "fig.update_layout(\n",
    "    #title_text=txt,\n",
    "    autosize=True,\n",
    "    margin=dict(l=50, r=50, t=100, b=100),\n",
    "    title_x=0.5,\n",
    "    title_y=0.07,\n",
    "    font_size=20,\n",
    "    font_family=\"Harding Text Web\",\n",
    "    annotations=[\n",
    "        dict(x=-0.02, y=1.35, text=\"9-11 years old\", showarrow=False, font=dict(size=20, weight=\"bold\")),\n",
    "        dict(x=0.5, y=1.35, text=\"11-13 years old\", showarrow=False, font=dict(size=20, weight=\"bold\")),\n",
    "        dict(x=1, y=1.35, text=\"13-15 years old\", showarrow=False, font=dict(size=20, weight=\"bold\"))\n",
    "    ]\n",
    ")\n",
    "fig.update_yaxes(automargin=True)\n",
    "\n",
    "fig.show()\n",
    "fig.write_image(f\"{output_dir}/sankey_diagram.svg\", scale=2, width=1000, height=700)"
   ]
  },
  {
   "cell_type": "code",
   "execution_count": 7,
   "id": "7ccd684c",
   "metadata": {},
   "outputs": [
    {
     "name": "stdout",
     "output_type": "stream",
     "text": [
      "Number of unique trajectories: 64\n",
      "Number of trajectories with more than 100 subjects: 32\n"
     ]
    }
   ],
   "source": [
    "# Let's create groups of trajectories based on their main profile across timepoints.\n",
    "# Starting by merging the dataframes to keep only the common subjects.\n",
    "common_subjects = set(df_baseline[\"subjectkey\"]).intersection(set(df_2y[\"subjectkey\"])).intersection(set(df_4y[\"subjectkey\"]))\n",
    "df_merged = pd.merge(df_baseline[df_baseline[\"subjectkey\"].isin(common_subjects)],\n",
    "                        df_2y[df_2y[\"subjectkey\"].isin(common_subjects)],\n",
    "                        on=\"subjectkey\", suffixes=(\"_baseline\", \"_2y\"))\n",
    "df_merged = pd.merge(df_merged, df_4y[df_4y[\"subjectkey\"].isin(common_subjects)],\n",
    "                        on=\"subjectkey\", suffixes=(\"\", \"_4y\"))\n",
    "\n",
    "# Create a new column which will contain a value for each trajectory (e.g. \"1-2-3\" for a subject that went from profile 1 at baseline to profile 2 at 2y and profile 3 at 4y).\n",
    "df_merged[\"trajectory\"] = df_merged.apply(lambda row: f\"{row['main_profile_baseline']+1}-{row['main_profile_2y']+1}-{row['main_profile']+1}\", axis=1)\n",
    "\n",
    "# Reformat subjectkey to remove \"_\" and add \"sub-\" prefix.\n",
    "df_merged[\"subjectkey\"] = df_merged[\"subjectkey\"].str.replace(\"_\", \"\", regex=False)\n",
    "df_merged[\"subjectkey\"] = \"sub-\" + df_merged[\"subjectkey\"]\n",
    "\n",
    "# Rename subjectkey to be sid.\n",
    "df_merged.rename(columns={\"subjectkey\": \"sid\"}, inplace=True)\n",
    "\n",
    "# Count the number of subjects in each trajectory.\n",
    "trajectory_counts = df_merged[\"trajectory\"].value_counts().reset_index()\n",
    "trajectory_counts.columns = [\"trajectory\", \"count\"]\n",
    "\n",
    "# Print the number of unique trajectories.\n",
    "print(f\"Number of unique trajectories: {len(trajectory_counts)}\")\n",
    "\n",
    "# Print the number of tracjectories with more than 100 subjects.\n",
    "print(f\"Number of trajectories with more than 100 subjects: {len(trajectory_counts[trajectory_counts['count'] > 20])}\")"
   ]
  },
  {
   "cell_type": "code",
   "execution_count": 33,
   "id": "5b68e3a5",
   "metadata": {},
   "outputs": [
    {
     "name": "stderr",
     "output_type": "stream",
     "text": [
      "/var/folders/23/p0fh1nrd473dtfz3cx_4g0j00000gn/T/ipykernel_27448/1206691005.py:38: UserWarning:\n",
      "\n",
      "set_ticklabels() should only be used with a fixed number of ticks, i.e. after set_ticks() or using a FixedLocator.\n",
      "\n",
      "/var/folders/23/p0fh1nrd473dtfz3cx_4g0j00000gn/T/ipykernel_27448/1206691005.py:39: UserWarning:\n",
      "\n",
      "set_ticklabels() should only be used with a fixed number of ticks, i.e. after set_ticks() or using a FixedLocator.\n",
      "\n",
      "/var/folders/23/p0fh1nrd473dtfz3cx_4g0j00000gn/T/ipykernel_27448/1206691005.py:41: UserWarning:\n",
      "\n",
      "set_ticklabels() should only be used with a fixed number of ticks, i.e. after set_ticks() or using a FixedLocator.\n",
      "\n"
     ]
    },
    {
     "data": {
      "image/png": "[encoded data removed]",
      "text/plain": [
       "<Figure size 1000x600 with 2 Axes>"
      ]
     },
     "metadata": {},
     "output_type": "display_data"
    }
   ],
   "source": [
    "# Compute the number of subjects for the trajectories between baseline and 2y, then 2y and 4y.\n",
    "trajectory_counts_2y = df_merged.groupby([\"main_profile_baseline\", \"main_profile_2y\"]).size().reset_index(name=\"count\")\n",
    "trajectory_counts_4y = df_merged.groupby([\"main_profile_2y\", \"main_profile\"]).size().reset_index(name=\"count\")\n",
    "\n",
    "# Create a new column for the trajectory.\n",
    "trajectory_counts_2y[\"trajectory\"] = trajectory_counts_2y.apply(lambda row: f\"{row['main_profile_baseline']+1}-{row['main_profile_2y']+1}\", axis=1)\n",
    "trajectory_counts_4y[\"trajectory\"] = trajectory_counts_4y.apply(lambda row: f\"{row['main_profile_2y']+1}-{row['main_profile']+1}\", axis=1)\n",
    "\n",
    "# Plot a bar plot of the number of subjects in each trajectory (2 subplots).\n",
    "fig, axs = plt.subplots(1, 2, figsize=(10, 6), sharey=True)\n",
    "# Plot the trajectories between baseline and 2y.\n",
    "bar1 = sns.barplot(data=trajectory_counts_2y, x=\"trajectory\", y=\"count\", hue=\"trajectory\", ax=axs[0], palette=\"Set2\", legend=False)\n",
    "axs[0].set_title(\"9-11 years to 11-13 years\", fontsize=16, fontweight=\"bold\")\n",
    "axs[0].set_xlabel(\"Trajectory\", fontsize=14)\n",
    "axs[0].set_ylabel(\"Number of subjects\", fontsize=14)\n",
    "axs[0].set_ylim(0, 700)\n",
    "\n",
    "# Annotate the bar plot with the number of subjects.\n",
    "for p in bar1.patches:\n",
    "    bar1.annotate(f'{int(p.get_height())}', (p.get_x() + p.get_width() / 2., p.get_height()+5),\n",
    "                  ha='center', va='bottom', fontsize=12, color='black', rotation=90)\n",
    "\n",
    "# Plot the trajectories between 2y and 4y.\n",
    "bar2 = sns.barplot(data=trajectory_counts_4y, x=\"trajectory\", y=\"count\", hue=\"trajectory\", ax=axs[1], palette=\"Set2\", legend=False)\n",
    "axs[1].set_title(\"11-13 years to 13-15 years\", fontsize=16, fontweight=\"bold\")\n",
    "axs[1].set_xlabel(\"Trajectory\", fontsize=14)\n",
    "axs[1].set_ylabel(\"Number of subjects\", fontsize=14)\n",
    "\n",
    "# Annotate the bar plot with the number of subjects.\n",
    "for p in bar2.patches:\n",
    "    bar2.annotate(f'{int(p.get_height())}', (p.get_x() + p.get_width() / 2., p.get_height()+5),\n",
    "                  ha='center', va='bottom', fontsize=12, color='black', rotation=90)\n",
    "\n",
    "# Rotate the x labels.\n",
    "axs[0].tick_params(axis='x', rotation=45)\n",
    "axs[1].tick_params(axis='x', rotation=45)\n",
    "# Set the font size.\n",
    "axs[0].set_xticklabels(axs[0].get_xticklabels(), fontsize=12)\n",
    "axs[1].set_xticklabels(axs[1].get_xticklabels(), fontsize=12)\n",
    "# Increase the size of the y labels.\n",
    "axs[0].set_yticklabels(axs[0].get_yticklabels(), fontsize=12)\n",
    "\n",
    "plt.tight_layout()\n",
    "plt.savefig(f\"{output_dir}/trajectories_barplot.png\", dpi=600, bbox_inches='tight')"
   ]
  },
  {
   "cell_type": "code",
   "execution_count": 11,
   "id": "9102b2a1",
   "metadata": {},
   "outputs": [
    {
     "name": "stdout",
     "output_type": "stream",
     "text": [
      "Stability percentage between Baseline and 2y: 62.65%\n",
      "Stability percentage between 2y and 4y: 62.44%\n"
     ]
    }
   ],
   "source": [
    "# Compute the percentage of subjects that stayed in the same profile across timepoints.\n",
    "def compute_stability_percentage(df, timepoint1, timepoint2):\n",
    "    \"\"\"\n",
    "    Compute the percentage of subjects that stayed in the same profile across two timepoints.\n",
    "    \"\"\"\n",
    "    total_subjects = len(df)\n",
    "    if total_subjects == 0:\n",
    "        return 0\n",
    "    same_profile_count = ((df[f\"main_profile{timepoint1}\"] == df[f\"main_profile{timepoint2}\"]).sum())\n",
    "    return (same_profile_count / total_subjects) * 100\n",
    "\n",
    "# Compute the stability percentage between baseline and 2y.\n",
    "stability_baseline_2y = compute_stability_percentage(df_merged, \"_baseline\", \"_2y\")\n",
    "\n",
    "# Compute the stability percentage between 2y and 4y.\n",
    "stability_2y_4y = compute_stability_percentage(df_merged, \"_2y\", \"\")\n",
    "\n",
    "# Print the stability percentages.\n",
    "print(f\"Stability percentage between Baseline and 2y: {stability_baseline_2y:.2f}%\")\n",
    "print(f\"Stability percentage between 2y and 4y: {stability_2y_4y:.2f}%\")"
   ]
  },
  {
   "cell_type": "code",
   "execution_count": 14,
   "id": "b86353bd",
   "metadata": {},
   "outputs": [
    {
     "name": "stdout",
     "output_type": "stream",
     "text": [
      "Movement ratios between Baseline and 2y:\n",
      "Profile 1: 0.55 (54.91%)\n",
      "Profile 2: 0.45 (45.45%)\n",
      "Profile 3: 0.31 (31.14%)\n",
      "Profile 4: 0.31 (31.22%)\n",
      "Movement ratios between 2y and 4y:\n",
      "Profile 1: 0.54 (53.70%)\n",
      "Profile 2: 0.53 (52.73%)\n",
      "Profile 3: 0.34 (33.78%)\n",
      "Profile 4: 0.27 (27.34%)\n"
     ]
    }
   ],
   "source": [
    "# Compute which profile has the highest movement across timepoints.\n",
    "# Represented by the ratio of the number of subjects that moved to another profile divided by the total number of subjects in that profile.\n",
    "# For example, if 100 subjects were in profile 1 at baseline and 50 of them moved to another profile at 2y, the movement ratio for profile 1 would be 50/100 = 0.5 or 50%.\n",
    "def compute_movement_ratio(df, timepoint1, timepoint2):\n",
    "    \"\"\"\n",
    "    Compute the movement ratio for each profile across two timepoints.\n",
    "    \"\"\"\n",
    "    movement_ratios = {}\n",
    "    for profile in range(4):\n",
    "        total_subjects = len(df[df[f\"main_profile{timepoint1}\"] == profile])\n",
    "        if total_subjects == 0:\n",
    "            movement_ratios[profile] = 0\n",
    "            continue\n",
    "        moved_subjects = len(df[(df[f\"main_profile{timepoint1}\"] == profile) & (df[f\"main_profile{timepoint2}\"] != profile)])\n",
    "        movement_ratios[profile] = moved_subjects / total_subjects\n",
    "    return movement_ratios\n",
    "\n",
    "# Compute the movement ratios between baseline and 2y.\n",
    "movement_ratios_baseline_2y = compute_movement_ratio(df_merged, \"_baseline\", \"_2y\")\n",
    "# Compute the movement ratios between 2y and 4y.\n",
    "movement_ratios_2y_4y = compute_movement_ratio(df_merged, \"_2y\", \"\")\n",
    "# Print the movement ratios.\n",
    "print(\"Movement ratios between Baseline and 2y:\")\n",
    "for profile, ratio in movement_ratios_baseline_2y.items():\n",
    "    print(f\"Profile {profile + 1}: {ratio:.2f} ({ratio * 100:.2f}%)\")\n",
    "print(\"Movement ratios between 2y and 4y:\")\n",
    "for profile, ratio in movement_ratios_2y_4y.items():\n",
    "    print(f\"Profile {profile + 1}: {ratio:.2f} ({ratio * 100:.2f}%)\")\n"
   ]
  },
  {
   "cell_type": "code",
   "execution_count": 17,
   "id": "e6915912",
   "metadata": {},
   "outputs": [
    {
     "name": "stdout",
     "output_type": "stream",
     "text": [
      "Next profile distribution between Baseline and 2y:\n",
      "Profile 1:\n",
      "  -> Profile 1: 193 subjects\n",
      "  -> Profile 3: 102 subjects\n",
      "  -> Profile 4: 86 subjects\n",
      "  -> Profile 2: 47 subjects\n",
      "Profile 2:\n",
      "  -> Profile 2: 168 subjects\n",
      "  -> Profile 4: 59 subjects\n",
      "  -> Profile 3: 48 subjects\n",
      "  -> Profile 1: 33 subjects\n",
      "Profile 3:\n",
      "  -> Profile 3: 639 subjects\n",
      "  -> Profile 4: 134 subjects\n",
      "  -> Profile 1: 88 subjects\n",
      "  -> Profile 2: 67 subjects\n",
      "Profile 4:\n",
      "  -> Profile 4: 478 subjects\n",
      "  -> Profile 3: 105 subjects\n",
      "  -> Profile 1: 64 subjects\n",
      "  -> Profile 2: 48 subjects\n",
      "Next profile distribution between 2y and 4y:\n",
      "Profile 1:\n",
      "  -> Profile 1: 175 subjects\n",
      "  -> Profile 3: 75 subjects\n",
      "  -> Profile 4: 72 subjects\n",
      "  -> Profile 2: 56 subjects\n",
      "Profile 2:\n",
      "  -> Profile 2: 156 subjects\n",
      "  -> Profile 4: 73 subjects\n",
      "  -> Profile 3: 66 subjects\n",
      "  -> Profile 1: 35 subjects\n",
      "Profile 3:\n",
      "  -> Profile 3: 592 subjects\n",
      "  -> Profile 4: 149 subjects\n",
      "  -> Profile 1: 107 subjects\n",
      "  -> Profile 2: 46 subjects\n",
      "Profile 4:\n",
      "  -> Profile 4: 550 subjects\n",
      "  -> Profile 3: 103 subjects\n",
      "  -> Profile 1: 56 subjects\n",
      "  -> Profile 2: 48 subjects\n"
     ]
    }
   ],
   "source": [
    "# Compute for each profile, which profile is the most common next profile.\n",
    "def compute_next_profile_distribution(df, timepoint1, timepoint2):\n",
    "    \"\"\"\n",
    "    Compute the distribution of next profiles for each profile across two timepoints.\n",
    "    \"\"\"\n",
    "    next_profile_distribution = {}\n",
    "    for profile in range(4):\n",
    "        next_profiles = df[(df[f\"main_profile{timepoint1}\"] == profile)][f\"main_profile{timepoint2}\"].value_counts()\n",
    "        next_profile_distribution[profile] = next_profiles\n",
    "    return next_profile_distribution\n",
    "\n",
    "# Compute the next profile distribution between baseline and 2y.\n",
    "next_profile_distribution_baseline_2y = compute_next_profile_distribution(df_merged, \"_baseline\", \"_2y\")\n",
    "# Compute the next profile distribution between 2y and 4y.\n",
    "next_profile_distribution_2y_4y = compute_next_profile_distribution(df_merged, \"_2y\", \"\")\n",
    "\n",
    "# Print the next profile distribution.\n",
    "print(\"Next profile distribution between Baseline and 2y:\")\n",
    "for profile, distribution in next_profile_distribution_baseline_2y.items():\n",
    "    print(f\"Profile {profile + 1}:\")\n",
    "    for next_profile, count in distribution.items():\n",
    "        print(f\"  -> Profile {next_profile + 1}: {count} subjects\")\n",
    "print(\"Next profile distribution between 2y and 4y:\")\n",
    "for profile, distribution in next_profile_distribution_2y_4y.items():\n",
    "    print(f\"Profile {profile + 1}:\")\n",
    "    for next_profile, count in distribution.items():\n",
    "        print(f\"  -> Profile {next_profile + 1}: {count} subjects\")"
   ]
  }
 ],
 "metadata": {
  "kernelspec": {
   "display_name": "neurostatx-0.1.0",
   "language": "python",
   "name": "python3"
  },
  "language_info": {
   "codemirror_mode": {
    "name": "ipython",
    "version": 3
   },
   "file_extension": ".py",
   "mimetype": "text/x-python",
   "name": "python",
   "nbconvert_exporter": "python",
   "pygments_lexer": "ipython3",
   "version": "3.11.9"
  }
 },
 "nbformat": 4,
 "nbformat_minor": 5
}
