{
 "cells": [
  {
   "cell_type": "markdown",
   "metadata": {},
   "source": [
    "#### **Running fuzzy clustering algorithm to create cognitive and behavioral profiles in 2y and 4y datasets.**\n",
    "\n",
    "Following cells will be dedicated to run a CLI based tool performing fuzzy clustering on the raw behavioral and cognitive variables. This will generate the membership values needed for the graph network computation.\n",
    "\n",
    "Test out first if we extract the same profiles as the baseline data, if so, simply predict the new timepoints.\n",
    "\n",
    "**Please note, the clustering process can take roughly 1h (depending on the number of cores used). It can be run directly in the notebook, but it will most likely be much faster to run it in a dedicated terminal window. To do so, simply copy and paste the command line, and change the relevant paths to point to your data. You can also select the desired number of cores to use during the clustering process.**"
   ]
  },
  {
   "cell_type": "code",
   "execution_count": 1,
   "metadata": {},
   "outputs": [],
   "source": [
    "# Imports\n",
    "import os\n",
    "import math\n",
    "\n",
    "import matplotlib.pyplot as plt\n",
    "from matplotlib import font_manager\n",
    "from matplotlib.pyplot import get_cmap\n",
    "from matplotlib.colors import rgb2hex\n",
    "from matplotlib.patches import Circle, RegularPolygon\n",
    "from matplotlib.path import Path\n",
    "from matplotlib.projections import register_projection\n",
    "from matplotlib.projections.polar import PolarAxes\n",
    "from matplotlib.spines import Spine\n",
    "from matplotlib.transforms import Affine2D\n",
    "import numpy as np\n",
    "import pandas as pd\n",
    "from scipy.stats import f_oneway\n",
    "import seaborn as sns\n",
    "from sklearn.preprocessing import MinMaxScaler\n",
    "from statsmodels.stats.multicomp import pairwise_tukeyhsd\n",
    "\n",
    "from neurostatx.io.utils import load_df_in_any_format"
   ]
  },
  {
   "cell_type": "code",
   "execution_count": 2,
   "metadata": {},
   "outputs": [],
   "source": [
    "# Fetch Harding font.\n",
    "font_files = []\n",
    "for fontpath in font_manager.findSystemFonts(fontpaths=None, fontext='ttf'):\n",
    "    if \"Harding\".lower() in fontpath.lower():\n",
    "        font_files.append(fontpath)\n",
    "for font_file in font_files:\n",
    "    font_manager.fontManager.addfont(font_file)"
   ]
  },
  {
   "cell_type": "code",
   "execution_count": 3,
   "metadata": {},
   "outputs": [],
   "source": [
    "# Setting up relevant paths.\n",
    "repository_path = \"/Users/anthonygagnon/code/Article-s-code/\" # CHANGE THIS\n",
    "abcd_base_path = \"/Volumes/T7/CCPM/ABCD/Release_5.1/abcd-data-release-5.1/\" # CHANGE THIS\n",
    "output_folder = \"/Volumes/T7/CCPM/RESULTS_JUNE_24/LongitudinalProfiles\" # CHANGE THIS\n",
    "\n",
    "# Setting up the paths for output subfolder.\n",
    "output_dir = f\"{output_folder}/fuzzyclustering/\" # DO NOT CHANGE THIS\n",
    "os.makedirs(output_dir, exist_ok=True)"
   ]
  },
  {
   "cell_type": "markdown",
   "metadata": {},
   "source": [
    "#### **Running FCM algorithm on 2y behavioral and cognitive data.**\n",
    "\n",
    "**This is a long running process, go get a coffee!**"
   ]
  },
  {
   "cell_type": "code",
   "execution_count": 18,
   "metadata": {
    "vscode": {
     "languageId": "shellscript"
    }
   },
   "outputs": [
    {
     "name": "stdout",
     "output_type": "stream",
     "text": [
      "\u001b[32m2024-11-08 16:49:48\u001b[0m \u001b[35mAnthonys-MacBook-Pro.local\u001b[0m \u001b[34mroot[15413]\u001b[0m \u001b[1;30mINFO\u001b[0m Loading dataset(s)...\n",
      "\u001b[32m2024-11-08 16:49:49\u001b[0m \u001b[35mAnthonys-MacBook-Pro.local\u001b[0m \u001b[34mroot[15413]\u001b[0m \u001b[1;30mINFO\u001b[0m Applying PCA dimensionality reduction.\n",
      "\u001b[32m2024-11-08 16:49:49\u001b[0m \u001b[35mAnthonys-MacBook-Pro.local\u001b[0m \u001b[34mroot[15413]\u001b[0m \u001b[1;30mINFO\u001b[0m Bartlett's test of sphericity returned a p-value of 0.0 and Keiser-Meyer-Olkin (KMO) test returned a value of 0.6555029770016774.\n",
      "\u001b[32m2024-11-08 16:49:52\u001b[0m \u001b[35mAnthonys-MacBook-Pro.local\u001b[0m \u001b[34mroot[15413]\u001b[0m \u001b[1;30mINFO\u001b[0m Generating dendrogram.\n",
      "\u001b[32m2024-11-08 16:49:56\u001b[0m \u001b[35mAnthonys-MacBook-Pro.local\u001b[0m \u001b[34mroot[15413]\u001b[0m \u001b[1;30mINFO\u001b[0m Computing FCM from k=2 to k=20\n",
      "[Parallel(n_jobs=6)]: Using backend LokyBackend with 6 concurrent workers.\n",
      "[Parallel(n_jobs=6)]: Done  20 out of  20 | elapsed: 22.4min finished\n",
      "\u001b[32m2024-11-08 17:12:18\u001b[0m \u001b[35mAnthonys-MacBook-Pro.local\u001b[0m \u001b[34mroot[15413]\u001b[0m \u001b[1;30mINFO\u001b[0m Plotting validation indicators and outputting final matrices.\n"
     ]
    }
   ],
   "source": [
    "# Running Clustering on raw variables using a CLI tool, therefore \n",
    "# using the ! flag beforehand. Running up to 20 clusters.\n",
    "# ** This is a long running process. Go get a coffee ! **\n",
    "\n",
    "!FuzzyClustering --in-dataset \"{output_folder}/datapreprocessing/abcd_2y_preprocessed.xlsx\" \\\n",
    "    --out-folder \"{output_dir}/ABCD_2y_FCM/\" \\\n",
    "    --desc-columns 22 --id-column \"subjectkey\" --pca --k 20 --m 2 \\\n",
    "    --metric mahalanobis --maxiter 5000 --error 1e-06 --cmap \"bone_r\" \\\n",
    "    --radarplot -v -s -f --processes 6"
   ]
  },
  {
   "cell_type": "markdown",
   "metadata": {},
   "source": [
    "#### **Running FCM algorithm on 4y behavioral and cognitive data.**\n",
    "\n",
    "**This is a long running process, go get a coffee!**"
   ]
  },
  {
   "cell_type": "code",
   "execution_count": 11,
   "metadata": {
    "vscode": {
     "languageId": "shellscript"
    }
   },
   "outputs": [
    {
     "name": "stdout",
     "output_type": "stream",
     "text": [
      "\u001b[32m2024-11-07 09:32:08\u001b[0m \u001b[35mMacBookPro.med.usherbrooke.ca\u001b[0m \u001b[34mroot[47167]\u001b[0m \u001b[1;30mINFO\u001b[0m Loading dataset(s)...\n",
      "\u001b[32m2024-11-07 09:32:08\u001b[0m \u001b[35mMacBookPro.med.usherbrooke.ca\u001b[0m \u001b[34mroot[47167]\u001b[0m \u001b[1;30mINFO\u001b[0m Applying PCA dimensionality reduction.\n",
      "\u001b[32m2024-11-07 09:32:08\u001b[0m \u001b[35mMacBookPro.med.usherbrooke.ca\u001b[0m \u001b[34mroot[47167]\u001b[0m \u001b[1;30mINFO\u001b[0m Bartlett's test of sphericity returned a p-value of 0.0 and Keiser-Meyer-Olkin (KMO) test returned a value of 0.6456440805816648.\n",
      "\u001b[32m2024-11-07 09:32:10\u001b[0m \u001b[35mMacBookPro.med.usherbrooke.ca\u001b[0m \u001b[34mroot[47167]\u001b[0m \u001b[1;30mINFO\u001b[0m Generating dendrogram.\n",
      "\u001b[32m2024-11-07 09:32:11\u001b[0m \u001b[35mMacBookPro.med.usherbrooke.ca\u001b[0m \u001b[34mroot[47167]\u001b[0m \u001b[1;30mINFO\u001b[0m Computing FCM from k=2 to k=20\n",
      "[Parallel(n_jobs=6)]: Using backend LokyBackend with 6 concurrent workers.\n",
      "[Parallel(n_jobs=6)]: Done  20 out of  20 | elapsed:  5.9min finished\n",
      "\u001b[32m2024-11-07 09:38:08\u001b[0m \u001b[35mMacBookPro.med.usherbrooke.ca\u001b[0m \u001b[34mroot[47167]\u001b[0m \u001b[1;30mINFO\u001b[0m Plotting validation indicators and outputting final matrices.\n"
     ]
    }
   ],
   "source": [
    "# Running Clustering on raw variables using a CLI tool, therefore \n",
    "# using the ! flag beforehand. Running up to 20 clusters.\n",
    "# ** This is a long running process. Go get a coffee ! **\n",
    "\n",
    "!FuzzyClustering --in-dataset \"{output_folder}/datapreprocessing/abcd_4y_preprocessed.xlsx\" \\\n",
    "    --out-folder \"{output_dir}/ABCD_4y_FCM/\" \\\n",
    "    --desc-columns 13 --id-column \"subjectkey\" --pca --k 20 --m 2 \\\n",
    "    --metric mahalanobis --maxiter 5000 --error 1e-06 --cmap \"bone_r\" \\\n",
    "    --radarplot -v -s -f --processes 6"
   ]
  },
  {
   "cell_type": "markdown",
   "metadata": {},
   "source": [
    "#### **Plot the silhouette score for each time point.**\n",
    "\n",
    "The following cells will load back the silhouette scores for each clustering process (baseline, 2 years, 4 years) and overlay those curves on a single plot."
   ]
  },
  {
   "cell_type": "code",
   "execution_count": 3,
   "metadata": {},
   "outputs": [],
   "source": [
    "# Load back the silhouette scores for each time point.\n",
    "baseline_ss = load_df_in_any_format(f\"{output_folder}/../fuzzyclustering/ABCDFuzzyCMeans/validation_indices.xlsx\")\n",
    "y2_ss = load_df_in_any_format(f\"{output_dir}/ABCD_2y_FCM/validation_indices.xlsx\")\n",
    "y4_ss = load_df_in_any_format(f\"{output_dir}/ABCD_4y_FCM/validation_indices.xlsx\")"
   ]
  },
  {
   "cell_type": "code",
   "execution_count": 4,
   "metadata": {},
   "outputs": [
    {
     "data": {
      "image/png": "[encoded data removed]",
      "text/plain": [
       "<Figure size 1200x800 with 1 Axes>"
      ]
     },
     "metadata": {},
     "output_type": "display_data"
    }
   ],
   "source": [
    "# Plot the silhouette scores for each time point.\n",
    "baseline_ss.index = [i+2 for i in range(0, len(baseline_ss))]\n",
    "y2_ss.index = [i+2 for i in range(0, len(y2_ss))]\n",
    "y4_ss.index = [i+2 for i in range(0, len(y4_ss))]\n",
    "\n",
    "colormap=sns.color_palette(\"bone\", n_colors=3)\n",
    "\n",
    "with plt.rc_context(\n",
    "        {\"font.family\": \"Sans Serif\",\n",
    "         \"font.size\": 12, \"font.weight\": \"normal\", \"axes.titleweight\": \"bold\",\n",
    "         }\n",
    "):\n",
    "    fig, ax = plt.subplots(1, 1, figsize=(12, 8))\n",
    "    sns.lineplot(baseline_ss[\"Silhouette Score\"], color=colormap[0], ax=ax, label=\"Baseline (9-10y)\")\n",
    "    sns.lineplot(y2_ss[\"Silhouette Score\"], color=colormap[1], ax=ax, label=\"2-year (11-13y)\")\n",
    "    sns.lineplot(y4_ss[\"Silhouette Score\"], color=colormap[2], ax=ax, label=\"4-year (13-15y)\")\n",
    "    ax.set_xlabel(\"Nb of clusters\", fontdict={\"weight\": \"bold\"})\n",
    "    ax.set_ylabel(\"Silhouette score\", fontdict={\"weight\": \"bold\"})\n",
    "    ax.spines[['top', 'right']].set_visible(False)\n",
    "    ax.spines[['bottom', 'left']].set_linewidth(1.5)\n",
    "    ax.legend(frameon=False, title=\"Follow-up\", loc=(0.5, 0.5),\n",
    "              title_fontproperties={\"weight\": \"bold\"})\n",
    "    ax.xaxis.set_major_locator(plt.MaxNLocator(integer=True))\n",
    "\n",
    "    # Add red circles for the optimal number of clusters.\n",
    "    ax.plot(4, baseline_ss['Silhouette Score'][4], marker='.', markersize=24,\n",
    "            mfc='none', mec='r', mew=2)\n",
    "    ax.plot(4, y2_ss['Silhouette Score'][4], marker='.', markersize=24,\n",
    "            mfc='none', mec='r', mew=2)\n",
    "    ax.plot(4, y4_ss['Silhouette Score'][4], marker='.', markersize=24,\n",
    "            mfc='none', mec='r', mew=2)\n",
    "    ax.plot(7, baseline_ss['Silhouette Score'][7], marker='.', markersize=24,\n",
    "            mfc='none', mec='g', mew=2)\n",
    "\n",
    "    plt.tight_layout()\n",
    "    plt.savefig(f\"{output_dir}/silhouette_scores.png\", dpi=600)\n",
    "    plt.show()"
   ]
  },
  {
   "cell_type": "markdown",
   "metadata": {},
   "source": [
    "#### **Create a radar plot with matching profile label for comparison with baseline data.**\n",
    "\n",
    "Since the fuzzy C-Means algorithm initiates the centroids at a random location each time the algorithm is run, most often the cluster labels do not match (e.g. you run it one time, the MC/HSI cluster has a label of 1, then, you rerun the algorithm and the profile MC/HSI has a label of 4). This doesn't affect the results, since the membership values to each cluster for each participant is nearly identical. However, it might become confusing when creating figures. The next cells will match the profile label for each time point to create similar radar plots. If you want to reproduce those steps, you will need to manually match the labels with the baseline data. \n",
    "\n",
    "**My current labelling of baseline data:**\n",
    "1. Profile 1 (MC/HSI)\n",
    "2. Profile 2 (MC/HE)\n",
    "3. Profile 3 (HC/LB)\n",
    "4. Profile 4 (LC/LB)"
   ]
  },
  {
   "cell_type": "code",
   "execution_count": 4,
   "metadata": {},
   "outputs": [],
   "source": [
    "def radar_plot(X, labels, output, frame='circle', title=\"Radar plot\",\n",
    "               cmap='magma'):\n",
    "    \"\"\"\n",
    "    Function to plot a radar plot for all features in the original dataset\n",
    "    stratified by clusters. T-test between clusters' mean within a feature is\n",
    "    also computed and annotated directly on the plot. When plotting a high\n",
    "    number of clusters, plotting of significant annotation is polluting the\n",
    "    plot, will be fixed in the future.\n",
    "\n",
    "    Parameters\n",
    "    ----------\n",
    "    X : DataFrame\n",
    "        Input dataset of shape (S, F).\n",
    "    labels : np.array\n",
    "        Array of hard membership value (S, ).\n",
    "    output : str\n",
    "        Filename of the png file.\n",
    "    frame : str, optional\n",
    "        Shape of the radar plot. Defaults to 'circle'. Choices are 'circle'\n",
    "        or 'polygon'.\n",
    "    title : str, optional\n",
    "        Title of the plot. Defaults to 'Radar plot'.\n",
    "    cmap : str, optional\n",
    "        Colormap to use for the plot. Defaults to 'magma'. See\n",
    "        https://matplotlib.org/stable/tutorials/colors/colormaps.html\n",
    "    \"\"\"\n",
    "\n",
    "    # Setting color palette.\n",
    "    cmap = get_cmap(cmap, len(np.unique(labels)))\n",
    "    colors = [rgb2hex(cmap(i)) for i in range(cmap.N)]\n",
    "\n",
    "    # Make labels start at 1 rather than 0, better for viz.\n",
    "    labels = labels + 1\n",
    "\n",
    "    # Axis labels.\n",
    "    var_labels = X.columns.tolist()\n",
    "    var_labels.append(var_labels[0])\n",
    "\n",
    "    # Computing ANOVA for each features.\n",
    "    anova = []\n",
    "    i = 0\n",
    "    for col in X.columns:\n",
    "        f, p = f_oneway(*[X.loc[labels == k, col] for k in np.unique(labels)])\n",
    "        anova.append(p)\n",
    "        i += 1\n",
    "\n",
    "    # Computing mean values for each features for each clusters.\n",
    "    mean_df = pd.DataFrame()\n",
    "    i = 0\n",
    "    for col in X.columns:\n",
    "        mean = list()\n",
    "        for k in np.unique(labels):\n",
    "            mean.append(X.loc[labels == k, col].mean())\n",
    "        mean_df.insert(i, col, mean)\n",
    "        i += 1\n",
    "\n",
    "    # Computing stds for each features for each clusters.\n",
    "    std_df = pd.DataFrame()\n",
    "    i = 0\n",
    "    for col in X.columns:\n",
    "        std = list()\n",
    "        for k in np.unique(labels):\n",
    "            std.append(X.loc[labels == k, col].std())\n",
    "        std_df.insert(i, col, std)\n",
    "        i += 1\n",
    "    max_val = math.ceil((mean_df + std_df).max().max())\n",
    "    min_val = math.floor((mean_df - std_df).min().min())\n",
    "\n",
    "    mean_df.insert(i, \"Clusters\", np.unique(labels))\n",
    "    std_df.insert(i, \"Clusters\", np.unique(labels))\n",
    "\n",
    "    with plt.rc_context(\n",
    "        {\"font.size\": 16, \"font.weight\": \"bold\", \"axes.titleweight\": \"bold\",\n",
    "         \"font.family\": \"Harding Text Web\"}\n",
    "    ):\n",
    "        fig = plt.figure(figsize=(12, 12))\n",
    "        ax = fig.add_subplot(111, polar=True)\n",
    "\n",
    "        # Set radar plot parameters.\n",
    "        theta = create_radar_plot(len(X.columns), frame=frame)\n",
    "\n",
    "        for idx, cluster in enumerate(np.unique(labels)):\n",
    "            values = mean_df.iloc[idx].drop('Clusters').values.tolist()\n",
    "            values.append(values[0])\n",
    "            stds = std_df.iloc[idx].drop('Clusters').values.tolist()\n",
    "            stds.append(stds[0])\n",
    "            stds_pos = [np.sum(x) for x in zip(values, stds)]\n",
    "            stds_neg = [s - d for s, d in zip(values, stds)]\n",
    "            ax.plot(theta, values, c=colors[idx], linewidth=8,\n",
    "                    label=f'Cluster {cluster}', markersize=4, zorder=2)\n",
    "            plot = ax.errorbar(theta, values, yerr=stds, fmt='o-',\n",
    "                               color=colors[idx], linewidth=0,\n",
    "                               label=f'Cluster {cluster}',\n",
    "                               zorder=2)\n",
    "            ax.fill_between(theta, values, stds_pos, alpha=0.2,\n",
    "                            color=colors[idx], edgecolor='none',\n",
    "                            label='_nolegend_')\n",
    "            ax.fill_between(theta, values, stds_neg, alpha=0.2,\n",
    "                            color=colors[idx], edgecolor='none',\n",
    "                            label='_nolegend_')\n",
    "\n",
    "            plot[-1][0].set_color(colors[idx])\n",
    "\n",
    "    # Add p-values to the plot.\n",
    "    for i, p in enumerate(anova):\n",
    "        if 0.01 < p < 0.05:\n",
    "            ax.text(theta[i], max_val * 0.95, '*', fontsize=32, color='black',\n",
    "                    weight='bold', rotation=math.degrees(theta[i]) + 90)\n",
    "        elif 0.001 < p < 0.01:\n",
    "            ax.text(theta[i], max_val * 0.95, '**', fontsize=32, color='black',\n",
    "                    weight='bold', rotation=math.degrees(theta[i]) + 90)\n",
    "        elif p < 0.001:\n",
    "            ax.text(theta[i], max_val * 0.95, '***', fontsize=32,\n",
    "                    color='black', weight='bold',\n",
    "                    rotation=math.degrees(theta[i]) + 90,\n",
    "                    ha='center', va='center')\n",
    "\n",
    "    # Set legend and variables parameters.\n",
    "    #legend = ax.legend(np.unique(labels), loc=(0.95, 0.05), title='Profile #',\n",
    "    #                   fontsize=14)\n",
    "    #frame = legend.get_frame()\n",
    "    #frame.set_facecolor('white')\n",
    "    #frame.set_edgecolor('black')\n",
    "    ax.set_thetagrids(theta * 180 / np.pi, var_labels, zorder=0)\n",
    "    ax.set_rlabel_position(-36)\n",
    "    ax.set_ylim(min_val, max_val)\n",
    "    yticks = np.arange(min_val, max_val, 1)\n",
    "    ax.set_yticks(yticks)\n",
    "\n",
    "    # Set spines and title parameters.\n",
    "    for spine in ax.spines.values():\n",
    "        spine.set_color('black')\n",
    "        spine.set_linewidth(2)\n",
    "    ax.grid(axis='y', color='lightgray', linewidth=1, zorder=0)\n",
    "    ax.grid(axis='x', color='lightgray', linewidth=1, zorder=0)\n",
    "    ax.set_facecolor('white')\n",
    "    ax.set_xticklabels(var_labels, fontsize=42, weight='bold')\n",
    "\n",
    "    ax.set_title(f\"{title}\", weight='bold', size=48,\n",
    "                 horizontalalignment='center')\n",
    "\n",
    "    # Set the position for the labels.\n",
    "    for label, angle in zip(ax.get_xticklabels(), theta):\n",
    "        if angle == 0:\n",
    "            label.set_horizontalalignment('left')\n",
    "        elif angle == np.pi:\n",
    "            label.set_horizontalalignment('right')\n",
    "        elif 0 < angle < np.pi / 2 or angle > 3 * np.pi / 2:\n",
    "            label.set_horizontalalignment('left')\n",
    "        else:\n",
    "            label.set_horizontalalignment('right')\n",
    "\n",
    "    ax.tick_params(axis='y', zorder=0, labelsize=20)\n",
    "    ax.set_yticklabels(ax.yaxis.get_majorticklabels(), ha='right')\n",
    "    ax.set_axisbelow(False)\n",
    "\n",
    "    plt.tight_layout()\n",
    "    plt.savefig(f\"{output}\", dpi=300)\n",
    "    plt.close()\n",
    "\n",
    "\n",
    "def create_radar_plot(nb_vars, frame='circle'):\n",
    "    \"\"\"\n",
    "    Create a radar chart with `nb_vars` axes.\n",
    "\n",
    "    Args:\n",
    "        nb_vars (int):          Number of variables to plot.\n",
    "        frame (str, optional):  Shape of the radar plot. Defaults to 'circle'.\n",
    "                                Choices are 'circle' or 'polygon'.\n",
    "\n",
    "    Returns:\n",
    "        np.array:               Array of evenly spaced axis angles.\n",
    "    \"\"\"\n",
    "\n",
    "    # Compute evenly spaced axis angles.\n",
    "    theta = np.linspace(0, 2 * np.pi, nb_vars, endpoint=False)\n",
    "    theta = np.concatenate((theta, [theta[0]]))\n",
    "\n",
    "    class RadarTransform(PolarAxes.PolarTransform):\n",
    "\n",
    "        def transform_path_non_affine(self, path):\n",
    "            if path._interpolation_steps > 1:\n",
    "                path = path.interpolated(nb_vars)\n",
    "            return Path(self.transform(path.vertices), path.codes)\n",
    "\n",
    "    class RadarAxes(PolarAxes):\n",
    "\n",
    "        name = 'radar'\n",
    "        PolarTransform = RadarTransform\n",
    "\n",
    "        def __init__(self, *args, **kwargs):\n",
    "            super().__init__(*args, **kwargs)\n",
    "            # Rotate plot to place the first axis at the top.\n",
    "            self.set_theta_zero_location('N')\n",
    "\n",
    "        def fill(self, *args, closed=True, **kwargs):\n",
    "            \"\"\"Override fill so that line is closed by default.\n",
    "\n",
    "            Args:\n",
    "                closed (bool, optional): _description_. Defaults to True.\n",
    "            \"\"\"\n",
    "            return super().fill(closed=closed, *args, **kwargs)\n",
    "\n",
    "        def plot(self, *args, **kwargs):\n",
    "            \"\"\"\n",
    "            Override plot so that line is closed by default.\n",
    "            \"\"\"\n",
    "            lines = super().plot(*args, **kwargs)\n",
    "            for line in lines:\n",
    "                self._close_line(line)\n",
    "\n",
    "        def _close_line(self, line):\n",
    "            x, y = line.get_data()\n",
    "            if x[0] != x[-1]:\n",
    "                x = np.append(x, x[0])\n",
    "                y = np.append(y, y[0])\n",
    "                line.set_data(x, y)\n",
    "\n",
    "        def set_varlabels(self, labels):\n",
    "            self.set_thetagrids(np.degrees(theta), labels)\n",
    "\n",
    "        def _gen_axes_patch(self):\n",
    "            if frame == 'circle':\n",
    "                return Circle((0.5, 0.5), 0.5)\n",
    "            elif frame == 'polygon':\n",
    "                return RegularPolygon((0.5, 0.5), nb_vars,\n",
    "                                      radius=0.5, edgecolor='k')\n",
    "            else:\n",
    "                raise ValueError(\"Unknown value for 'frame': %s\" % frame)\n",
    "\n",
    "        def _gen_axes_spines(self):\n",
    "            if frame == 'circle':\n",
    "                return super()._gen_axes_spines()\n",
    "            elif frame == 'polygon':\n",
    "\n",
    "                spine = Spine(axes=self,\n",
    "                              spine_type='circle',\n",
    "                              path=Path.unit_regular_polygon(nb_vars))\n",
    "                spine.set_transform(\n",
    "                    Affine2D().scale(0.5).translate(0.5, 0.5) + self.transAxes)\n",
    "                return {'polar': spine}\n",
    "            else:\n",
    "                raise ValueError(\"Unknown value for 'frame': %s\" % frame)\n",
    "\n",
    "    register_projection(RadarAxes)\n",
    "\n",
    "    return theta"
   ]
  },
  {
   "cell_type": "code",
   "execution_count": 5,
   "metadata": {},
   "outputs": [],
   "source": [
    "# Load back the cluster assignments for each time point.\n",
    "abcd_2y = load_df_in_any_format(f\"{output_dir}/ABCD_2y_FCM/MEMBERSHIP_DF/clusters_membership_4.xlsx\")\n",
    "\n",
    "# Swap columns to match the baseline cluster assignments.\n",
    "cols = ['subjectkey', 'Site', 'Sex', 'Ethnicity', 'Parent_ed1', 'Parent_ed2', 'Income', 'high_edu',\n",
    "        'ParentalEducation', 'IncomeGroups', 'Handedness', 'Vision', 'AgeMonths', 'ADHD', 'AD',\n",
    "        'OCD', 'DD', 'BPD', 'ODD', 'CD', 'PTSD', 'PSYPATHO', 'Internalizing', 'Externalizing',\n",
    "        'Stress', 'EFPS', 'MEM', 'VA', 'Cluster #3', 'Cluster #4', 'Cluster #1', 'Cluster #2']\n",
    "abcd_2y = abcd_2y[cols]\n",
    "\n",
    "# Change column names to match the baseline cluster assignments.\n",
    "abcd_2y = abcd_2y.rename(columns={\"Externalizing\": \"Externalization\", \"Internalizing\": \"Internalization\"})\n",
    "\n",
    "# Save the new fcm dataframe.\n",
    "abcd_2y.to_excel(f\"{output_dir}/fcm_2y.xlsx\", index=False)"
   ]
  },
  {
   "cell_type": "code",
   "execution_count": 8,
   "metadata": {},
   "outputs": [
    {
     "name": "stdout",
     "output_type": "stream",
     "text": [
      "Profile\n",
      "2    2631\n",
      "3    2504\n",
      "0    1130\n",
      "1    1104\n",
      "Name: count, dtype: int64\n"
     ]
    }
   ],
   "source": [
    "# Fetch the main cluster profile for each participant.\n",
    "abcd_2y['Profile'] = np.argmax(abcd_2y[['Cluster #3', 'Cluster #4', 'Cluster #1', 'Cluster #2']].values, axis=1)\n",
    "\n",
    "# Print the number of participants in each cluster.\n",
    "print(abcd_2y.Profile.value_counts())\n",
    "\n",
    "# Rename the columns for the radar plot.\n",
    "abcd_2y = abcd_2y.rename(columns={\"Internalization\": \"Int\", \"Externalization\": \"Ext\"})\n",
    "\n",
    "# Scale the values by dividing them by the maximum value. Using a loop to avoid hardcoding.\n",
    "vars = ['Int', 'Ext', 'Stress', 'VA', 'EFPS', 'MEM']\n",
    "\n",
    "for var in vars:\n",
    "    abcd_2y.loc[:, var] = MinMaxScaler((0, 5)).fit_transform(abcd_2y[[var]])\n",
    "\n",
    "radar_plot(abcd_2y.loc[:, vars], abcd_2y.Profile, title='ABCD 11-13y follow-up',\n",
    "           output=f\"{output_dir}/RadarPlot2y.png\", cmap=\"Set2\")"
   ]
  },
  {
   "cell_type": "code",
   "execution_count": 9,
   "metadata": {},
   "outputs": [],
   "source": [
    "# Load back the cluster assignments for each time point. (4-year follow-up)\n",
    "abcd_4y = load_df_in_any_format(f\"{output_dir}/ABCD_4y_FCM/MEMBERSHIP_DF/clusters_membership_4.xlsx\")\n",
    "\n",
    "# Swap columns to match the baseline cluster assignments.\n",
    "cols = ['subjectkey', 'Site', 'Sex', 'Ethnicity', 'Parent_ed1', 'Parent_ed2',\n",
    "       'Income', 'high_edu', 'ParentalEducation', 'IncomeGroups', 'Handedness',\n",
    "       'Vision', 'AgeMonths', 'Internalizing', 'Externalizing', 'Stress',\n",
    "       'EFPS', 'MEM', 'VA', 'Cluster #3', 'Cluster #4', 'Cluster #2',\n",
    "       'Cluster #1']\n",
    "abcd_4y = abcd_4y[cols]\n",
    "\n",
    "# Change column name for consistency.\n",
    "abcd_4y = abcd_4y.rename(columns={\"Externalizing\": \"Externalization\", \"Internalizing\": \"Internalization\"})\n",
    "\n",
    "# Save the new fcm dataframe.\n",
    "abcd_4y.to_excel(f\"{output_dir}/fcm_4y.xlsx\", index=False)"
   ]
  },
  {
   "cell_type": "code",
   "execution_count": 10,
   "metadata": {},
   "outputs": [
    {
     "name": "stdout",
     "output_type": "stream",
     "text": [
      "Profile\n",
      "3    1018\n",
      "2    1015\n",
      "0     436\n",
      "1     377\n",
      "Name: count, dtype: int64\n"
     ]
    }
   ],
   "source": [
    "# Get main cluster assignments.\n",
    "abcd_4y['Profile'] = np.argmax(abcd_4y[['Cluster #3', 'Cluster #4', 'Cluster #2', 'Cluster #1']].values, axis=1)\n",
    "\n",
    "# Print the number of participants in each cluster.\n",
    "print(abcd_4y.Profile.value_counts())\n",
    "\n",
    "# Rename the columns for the radar plot.\n",
    "abcd_4y.rename(columns={\"Internalization\": \"Int\", \"Externalization\": \"Ext\"}, inplace=True)\n",
    "\n",
    "# Scale the values by dividing them by the maximum value. Using a loop to avoid hardcoding.\n",
    "vars = ['Int', 'Ext', 'Stress', 'VA', 'EFPS', 'MEM']\n",
    "\n",
    "for var in vars:\n",
    "    abcd_4y.loc[:, var] = MinMaxScaler((0, 5)).fit_transform(abcd_4y[[var]])\n",
    "\n",
    "radar_plot(abcd_4y.loc[:, vars], abcd_4y.Profile, title='ABCD 13-15y follow-up',\n",
    "           output=f\"{output_dir}/RadarPlot4y.png\", cmap=\"Set2\")"
   ]
  },
  {
   "cell_type": "markdown",
   "metadata": {},
   "source": [
    "#### **Build a Graph Network object for each follow-up**\n",
    "\n",
    "The next few cells will build and visualize the Graph Network object for each follow-up. "
   ]
  },
  {
   "cell_type": "code",
   "execution_count": 66,
   "metadata": {
    "vscode": {
     "languageId": "shellscript"
    }
   },
   "outputs": [
    {
     "name": "stdout",
     "output_type": "stream",
     "text": [
      "\u001b[32m2024-11-08 22:25:25\u001b[0m \u001b[35mAnthonys-MacBook-Pro.local\u001b[0m \u001b[34mroot[94917]\u001b[0m \u001b[1;30mINFO\u001b[0m Loading membership data.\n",
      "\u001b[32m2024-11-08 22:25:27\u001b[0m \u001b[35mAnthonys-MacBook-Pro.local\u001b[0m \u001b[34mroot[94917]\u001b[0m \u001b[1;30mINFO\u001b[0m Computing graph network layout.\n",
      "\u001b[32m2024-11-08 22:26:19\u001b[0m \u001b[35mAnthonys-MacBook-Pro.local\u001b[0m \u001b[34mroot[94917]\u001b[0m \u001b[1;30mINFO\u001b[0m Setting nodes position.\n",
      "\u001b[32m2024-11-08 22:26:19\u001b[0m \u001b[35mAnthonys-MacBook-Pro.local\u001b[0m \u001b[34mroot[94917]\u001b[0m \u001b[1;30mINFO\u001b[0m Importing data within the .gml file.\n"
     ]
    }
   ],
   "source": [
    "# Compute the Graph Network layout.\n",
    "!ComputeGraphNetwork --in-dataset \"{output_dir}/fcm_2y.xlsx\" \\\n",
    "    --out-folder \"{output_dir}/GraphNetwork2y/\" --id-column \"subjectkey\" --desc-columns 28 \\\n",
    "    --layout spring --weight membership -v -f -s --import-data --plot-distribution"
   ]
  },
  {
   "cell_type": "code",
   "execution_count": 76,
   "metadata": {
    "vscode": {
     "languageId": "shellscript"
    }
   },
   "outputs": [
    {
     "name": "stdout",
     "output_type": "stream",
     "text": [
      "\u001b[32m2024-11-08 22:33:06\u001b[0m \u001b[35mAnthonys-MacBook-Pro.local\u001b[0m \u001b[34mroot[1555]\u001b[0m \u001b[1;30mINFO\u001b[0m Loading membership data.\n",
      "\u001b[32m2024-11-08 22:33:07\u001b[0m \u001b[35mAnthonys-MacBook-Pro.local\u001b[0m \u001b[34mroot[1555]\u001b[0m \u001b[1;30mINFO\u001b[0m Computing graph network layout.\n",
      "\u001b[32m2024-11-08 22:33:17\u001b[0m \u001b[35mAnthonys-MacBook-Pro.local\u001b[0m \u001b[34mroot[1555]\u001b[0m \u001b[1;30mINFO\u001b[0m Setting nodes position.\n",
      "\u001b[32m2024-11-08 22:33:17\u001b[0m \u001b[35mAnthonys-MacBook-Pro.local\u001b[0m \u001b[34mroot[1555]\u001b[0m \u001b[1;30mINFO\u001b[0m Importing data within the .gml file.\n"
     ]
    }
   ],
   "source": [
    "# Compute the Graph Network layout.\n",
    "!ComputeGraphNetwork --in-dataset \"{output_dir}/fcm_4y.xlsx\" \\\n",
    "    --out-folder \"{output_dir}/GraphNetwork4y/\" --id-column \"subjectkey\" --desc-columns 19 \\\n",
    "    --layout spring --weight membership -v -f -s --import-data --plot-distribution"
   ]
  },
  {
   "cell_type": "code",
   "execution_count": 37,
   "metadata": {
    "vscode": {
     "languageId": "shellscript"
    }
   },
   "outputs": [
    {
     "name": "stdout",
     "output_type": "stream",
     "text": [
      "\u001b[32m2025-01-29 13:25:41\u001b[0m \u001b[35mAnthonys-MacBook-Pro.local\u001b[0m \u001b[34mroot[48893]\u001b[0m \u001b[1;30mINFO\u001b[0m Loading graph data.\n",
      "\u001b[32m2025-01-29 13:25:42\u001b[0m \u001b[35mAnthonys-MacBook-Pro.local\u001b[0m \u001b[34mroot[48893]\u001b[0m \u001b[1;30mINFO\u001b[0m Generating graph.\n",
      "\u001b[32m2025-01-29 13:25:47\u001b[0m \u001b[35mAnthonys-MacBook-Pro.local\u001b[0m \u001b[34mroot[48893]\u001b[0m \u001b[1;30mINFO\u001b[0m Constructing graph(s) with custom labels.\n"
     ]
    }
   ],
   "source": [
    "# Visualize the Graph Network layout. (2y follow-up)\n",
    "!VisualizeGraphNetwork --in-graph \"{output_dir}/GraphNetwork2y/network_graph_file.gml\" \\\n",
    "    --out-folder \"{output_dir}/VizNetwork2y\" --weight \"membership\" --colormap \"bone_r\" \\\n",
    "    -v -f -s --label-name \"ADHD\" --label-name \"AD\" --label-name \"OCD\" --label-name \"CD\" \\\n",
    "    --label-name \"ODD\" --label-name \"DD\" --label-name \"PSYPATHO\""
   ]
  },
  {
   "cell_type": "code",
   "execution_count": 77,
   "metadata": {
    "vscode": {
     "languageId": "shellscript"
    }
   },
   "outputs": [
    {
     "name": "stdout",
     "output_type": "stream",
     "text": [
      "\u001b[32m2024-11-08 22:33:19\u001b[0m \u001b[35mAnthonys-MacBook-Pro.local\u001b[0m \u001b[34mroot[1749]\u001b[0m \u001b[1;30mINFO\u001b[0m Loading graph data.\n",
      "\u001b[32m2024-11-08 22:33:19\u001b[0m \u001b[35mAnthonys-MacBook-Pro.local\u001b[0m \u001b[34mroot[1749]\u001b[0m \u001b[1;30mINFO\u001b[0m Generating graph.\n"
     ]
    }
   ],
   "source": [
    "# Visualize the Graph Network layout. (4y follow-up)\n",
    "!VisualizeGraphNetwork --in-graph \"{output_dir}/GraphNetwork4y/network_graph_file.gml\" \\\n",
    "    --out-folder \"{output_dir}/VizNetwork4y\" --weight \"membership\" --colormap \"bone_r\" \\\n",
    "    -v -f -s"
   ]
  },
  {
   "cell_type": "markdown",
   "metadata": {},
   "source": [
    "#### **Exporting results from the one-way ANOVA between profiles on the raw cognitive and behavioral variables.**\n",
    "\n",
    "When generating the radar plot, a one-way ANOVA is computed to determine the statistical difference between profiles for each raw variable. However, results are not exported in tabular format but appended to the radar plot. The next cells will compute the ANOVA, and export the results in a table. The exported table will include results from the combined and individual studies. Additionally, Tukey HSD posthoc test will be conducted to further detail the difference in means between each profile."
   ]
  },
  {
   "cell_type": "code",
   "execution_count": 104,
   "metadata": {},
   "outputs": [],
   "source": [
    "# Computing the ANOVA for the 2 year follow-up.\n",
    "anova_2y = []\n",
    "for var in vars:\n",
    "    f, p = f_oneway(*[abcd_2y.loc[abcd_2y.Profile == i, var] for i in np.unique(abcd_2y.Profile)])\n",
    "    anova_2y.append([var, f, p])\n",
    "\n",
    "anova_2y = pd.DataFrame(anova_2y, columns=['Variable', 'F_comb', 'p_comb'])\n",
    "anova_2y.set_index('Variable', inplace=True)\n",
    "\n",
    "anova_2y.to_excel(f\"{output_dir}/anova_2y.xlsx\")\n"
   ]
  },
  {
   "cell_type": "code",
   "execution_count": 103,
   "metadata": {},
   "outputs": [
    {
     "name": "stderr",
     "output_type": "stream",
     "text": [
      "/var/folders/23/p0fh1nrd473dtfz3cx_4g0j00000gn/T/ipykernel_71981/3704368498.py:2: FutureWarning: Setting an item of incompatible dtype is deprecated and will raise in a future error of pandas. Value '['Profile 2' 'Profile 2' 'Profile 3' ... 'Profile 3' 'Profile 3'\n",
      " 'Profile 4']' has dtype incompatible with int64, please explicitly cast to a compatible dtype first.\n",
      "  abcd_2y.loc[:, 'Profile'] = abcd_2y.Profile.apply(lambda x: f\"Profile {x+1}\")\n"
     ]
    }
   ],
   "source": [
    "# Add string to profiles label, easy to interpret tables afterwards.\n",
    "abcd_2y.loc[:, 'Profile'] = abcd_2y.Profile.apply(lambda x: f\"Profile {x+1}\")\n",
    "\n",
    "# Tukey's HSD post-hoc test.\n",
    "tukey_2y = []\n",
    "\n",
    "for var in vars:\n",
    "    tukey = pairwise_tukeyhsd(abcd_2y[var], abcd_2y.Profile, alpha=0.05)\n",
    "    tukey_2y.append(tukey.summary())\n",
    "\n",
    "with pd.ExcelWriter(f\"{output_dir}/Tukey_results_2y.xlsx\") as writer:\n",
    "    for i, var in enumerate(vars):\n",
    "        pd.DataFrame(tukey_2y[i]).to_excel(writer, sheet_name=f\"{var}_combined\", header=False, index=False)"
   ]
  },
  {
   "cell_type": "code",
   "execution_count": 105,
   "metadata": {},
   "outputs": [],
   "source": [
    "# Computing the ANOVA for the 4 year follow-up.\n",
    "anova_4y = []\n",
    "for var in vars:\n",
    "    f, p = f_oneway(*[abcd_4y.loc[abcd_4y.Profile == i, var] for i in np.unique(abcd_4y.Profile)])\n",
    "    anova_4y.append([var, f, p])\n",
    "\n",
    "anova_4y = pd.DataFrame(anova_4y, columns=['Variable', 'F_comb', 'p_comb'])\n",
    "anova_4y.set_index('Variable', inplace=True)\n",
    "\n",
    "anova_4y.to_excel(f\"{output_dir}/anova_4y.xlsx\")"
   ]
  },
  {
   "cell_type": "code",
   "execution_count": 106,
   "metadata": {},
   "outputs": [
    {
     "name": "stderr",
     "output_type": "stream",
     "text": [
      "/var/folders/23/p0fh1nrd473dtfz3cx_4g0j00000gn/T/ipykernel_71981/865758372.py:2: FutureWarning: Setting an item of incompatible dtype is deprecated and will raise in a future error of pandas. Value '['Profile 2' 'Profile 2' 'Profile 3' ... 'Profile 4' 'Profile 1'\n",
      " 'Profile 4']' has dtype incompatible with int64, please explicitly cast to a compatible dtype first.\n",
      "  abcd_4y.loc[:, 'Profile'] = abcd_4y.Profile.apply(lambda x: f\"Profile {x+1}\")\n"
     ]
    }
   ],
   "source": [
    "# Add string to profiles label, easy to interpret tables afterwards.\n",
    "abcd_4y.loc[:, 'Profile'] = abcd_4y.Profile.apply(lambda x: f\"Profile {x+1}\")\n",
    "\n",
    "# Tukey's HSD post-hoc test.\n",
    "tukey_4y = []\n",
    "\n",
    "for var in vars:\n",
    "    tukey = pairwise_tukeyhsd(abcd_4y[var], abcd_4y.Profile, alpha=0.05)\n",
    "    tukey_4y.append(tukey.summary())\n",
    "\n",
    "with pd.ExcelWriter(f\"{output_dir}/Tukey_results_4y.xlsx\") as writer:\n",
    "    for i, var in enumerate(vars):\n",
    "        pd.DataFrame(tukey_4y[i]).to_excel(writer, sheet_name=f\"{var}_combined\", header=False, index=False)"
   ]
  }
 ],
 "metadata": {
  "kernelspec": {
   "display_name": "neurostatx-0.1.0",
   "language": "python",
   "name": "python3"
  },
  "language_info": {
   "codemirror_mode": {
    "name": "ipython",
    "version": 3
   },
   "file_extension": ".py",
   "mimetype": "text/x-python",
   "name": "python",
   "nbconvert_exporter": "python",
   "pygments_lexer": "ipython3",
   "version": "3.11.9"
  }
 },
 "nbformat": 4,
 "nbformat_minor": 2
}
